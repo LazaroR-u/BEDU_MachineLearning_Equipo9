{
  "nbformat": 4,
  "nbformat_minor": 0,
  "metadata": {
    "colab": {
      "name": "Saratoga_houses_predict.ipynb",
      "provenance": [],
      "collapsed_sections": [
        "AJ1a3QqnB2En"
      ],
      "authorship_tag": "ABX9TyML6or9WNX65H6vqUb81zPE",
      "include_colab_link": true
    },
    "kernelspec": {
      "display_name": "Python 3",
      "name": "python3"
    },
    "language_info": {
      "name": "python"
    }
  },
  "cells": [
    {
      "cell_type": "markdown",
      "metadata": {
        "id": "view-in-github",
        "colab_type": "text"
      },
      "source": [
        "<a href=\"https://colab.research.google.com/github/LazaroR-u/BEDU_MachineLearning_Equipo9/blob/main/Saratoga%20Houses%20predict/Saratoga_houses_predict.ipynb\" target=\"_parent\"><img src=\"https://colab.research.google.com/assets/colab-badge.svg\" alt=\"Open In Colab\"/></a>"
      ]
    },
    {
      "cell_type": "code",
      "metadata": {
        "id": "EenCan5YWATT"
      },
      "source": [
        "import numpy as np \n",
        "import pandas as pd \n",
        "import seaborn as sns\n",
        "import matplotlib.pyplot as plt \n",
        "from matplotlib import style\n"
      ],
      "execution_count": 2,
      "outputs": []
    },
    {
      "cell_type": "code",
      "metadata": {
        "id": "JpGedD_RWoak"
      },
      "source": [
        "# Configuración matplotlib\n",
        "plt.rcParams['image.cmap'] = \"bwr\"\n",
        "#plt.rcParams['figure.dpi'] = \"100\"\n",
        "plt.rcParams['savefig.bbox'] = \"tight\"\n",
        "style.use('ggplot') or plt.style.use('ggplot')\n",
        "\n",
        "# Configuración warnings\n",
        "import warnings\n",
        "warnings.filterwarnings('ignore')"
      ],
      "execution_count": 3,
      "outputs": []
    },
    {
      "cell_type": "code",
      "metadata": {
        "colab": {
          "base_uri": "https://localhost:8080/",
          "height": 204
        },
        "id": "i9seZwKmWoXX",
        "outputId": "bd69f027-18d1-4ed4-b1f7-8f5871cddb5c"
      },
      "source": [
        "df= pd.read_csv(\"https://raw.githubusercontent.com/JoaquinAmatRodrigo/Estadistica-machine-learning-python/master/data/SaratogaHouses.csv\", sep=\",\")\n",
        "df.head()"
      ],
      "execution_count": 4,
      "outputs": [
        {
          "output_type": "execute_result",
          "data": {
            "text/html": [
              "<div>\n",
              "<style scoped>\n",
              "    .dataframe tbody tr th:only-of-type {\n",
              "        vertical-align: middle;\n",
              "    }\n",
              "\n",
              "    .dataframe tbody tr th {\n",
              "        vertical-align: top;\n",
              "    }\n",
              "\n",
              "    .dataframe thead th {\n",
              "        text-align: right;\n",
              "    }\n",
              "</style>\n",
              "<table border=\"1\" class=\"dataframe\">\n",
              "  <thead>\n",
              "    <tr style=\"text-align: right;\">\n",
              "      <th></th>\n",
              "      <th>price</th>\n",
              "      <th>lotSize</th>\n",
              "      <th>age</th>\n",
              "      <th>landValue</th>\n",
              "      <th>livingArea</th>\n",
              "      <th>pctCollege</th>\n",
              "      <th>bedrooms</th>\n",
              "      <th>fireplaces</th>\n",
              "      <th>bathrooms</th>\n",
              "      <th>rooms</th>\n",
              "      <th>heating</th>\n",
              "      <th>fuel</th>\n",
              "      <th>sewer</th>\n",
              "      <th>waterfront</th>\n",
              "      <th>newConstruction</th>\n",
              "      <th>centralAir</th>\n",
              "    </tr>\n",
              "  </thead>\n",
              "  <tbody>\n",
              "    <tr>\n",
              "      <th>0</th>\n",
              "      <td>132500</td>\n",
              "      <td>0.09</td>\n",
              "      <td>42</td>\n",
              "      <td>50000</td>\n",
              "      <td>906</td>\n",
              "      <td>35</td>\n",
              "      <td>2</td>\n",
              "      <td>1</td>\n",
              "      <td>1.0</td>\n",
              "      <td>5</td>\n",
              "      <td>electric</td>\n",
              "      <td>electric</td>\n",
              "      <td>septic</td>\n",
              "      <td>No</td>\n",
              "      <td>No</td>\n",
              "      <td>No</td>\n",
              "    </tr>\n",
              "    <tr>\n",
              "      <th>1</th>\n",
              "      <td>181115</td>\n",
              "      <td>0.92</td>\n",
              "      <td>0</td>\n",
              "      <td>22300</td>\n",
              "      <td>1953</td>\n",
              "      <td>51</td>\n",
              "      <td>3</td>\n",
              "      <td>0</td>\n",
              "      <td>2.5</td>\n",
              "      <td>6</td>\n",
              "      <td>hot water/steam</td>\n",
              "      <td>gas</td>\n",
              "      <td>septic</td>\n",
              "      <td>No</td>\n",
              "      <td>No</td>\n",
              "      <td>No</td>\n",
              "    </tr>\n",
              "    <tr>\n",
              "      <th>2</th>\n",
              "      <td>109000</td>\n",
              "      <td>0.19</td>\n",
              "      <td>133</td>\n",
              "      <td>7300</td>\n",
              "      <td>1944</td>\n",
              "      <td>51</td>\n",
              "      <td>4</td>\n",
              "      <td>1</td>\n",
              "      <td>1.0</td>\n",
              "      <td>8</td>\n",
              "      <td>hot water/steam</td>\n",
              "      <td>gas</td>\n",
              "      <td>public/commercial</td>\n",
              "      <td>No</td>\n",
              "      <td>No</td>\n",
              "      <td>No</td>\n",
              "    </tr>\n",
              "    <tr>\n",
              "      <th>3</th>\n",
              "      <td>155000</td>\n",
              "      <td>0.41</td>\n",
              "      <td>13</td>\n",
              "      <td>18700</td>\n",
              "      <td>1944</td>\n",
              "      <td>51</td>\n",
              "      <td>3</td>\n",
              "      <td>1</td>\n",
              "      <td>1.5</td>\n",
              "      <td>5</td>\n",
              "      <td>hot air</td>\n",
              "      <td>gas</td>\n",
              "      <td>septic</td>\n",
              "      <td>No</td>\n",
              "      <td>No</td>\n",
              "      <td>No</td>\n",
              "    </tr>\n",
              "    <tr>\n",
              "      <th>4</th>\n",
              "      <td>86060</td>\n",
              "      <td>0.11</td>\n",
              "      <td>0</td>\n",
              "      <td>15000</td>\n",
              "      <td>840</td>\n",
              "      <td>51</td>\n",
              "      <td>2</td>\n",
              "      <td>0</td>\n",
              "      <td>1.0</td>\n",
              "      <td>3</td>\n",
              "      <td>hot air</td>\n",
              "      <td>gas</td>\n",
              "      <td>public/commercial</td>\n",
              "      <td>No</td>\n",
              "      <td>Yes</td>\n",
              "      <td>Yes</td>\n",
              "    </tr>\n",
              "  </tbody>\n",
              "</table>\n",
              "</div>"
            ],
            "text/plain": [
              "    price  lotSize  age  ...  waterfront  newConstruction  centralAir\n",
              "0  132500     0.09   42  ...          No               No          No\n",
              "1  181115     0.92    0  ...          No               No          No\n",
              "2  109000     0.19  133  ...          No               No          No\n",
              "3  155000     0.41   13  ...          No               No          No\n",
              "4   86060     0.11    0  ...          No              Yes         Yes\n",
              "\n",
              "[5 rows x 16 columns]"
            ]
          },
          "metadata": {},
          "execution_count": 4
        }
      ]
    },
    {
      "cell_type": "code",
      "metadata": {
        "id": "NchpwIE7WoSf"
      },
      "source": [
        "#Renombramos las columnas\n",
        "df.columns= [\"precio\", \"metros_totales\", \"antiguedad\", \"precio_terreno\",\n",
        "                 \"metros_habitables\", \"universitarios\", \"dormitorios\", \n",
        "                 \"chimenea\", \"banyos\", \"habitaciones\", \"calefaccion\",\n",
        "                 \"consumo_calefacion\", \"desague\", \"vistas_lago\",\n",
        "                 \"nueva_construccion\", \"aire_acondicionado\"]"
      ],
      "execution_count": 5,
      "outputs": []
    },
    {
      "cell_type": "code",
      "metadata": {
        "colab": {
          "base_uri": "https://localhost:8080/"
        },
        "id": "QjOQXcTSWoOG",
        "outputId": "ed51c593-1bda-4c8b-c224-5d27a680854e"
      },
      "source": [
        "df.info()"
      ],
      "execution_count": 6,
      "outputs": [
        {
          "output_type": "stream",
          "name": "stdout",
          "text": [
            "<class 'pandas.core.frame.DataFrame'>\n",
            "RangeIndex: 1728 entries, 0 to 1727\n",
            "Data columns (total 16 columns):\n",
            " #   Column              Non-Null Count  Dtype  \n",
            "---  ------              --------------  -----  \n",
            " 0   precio              1728 non-null   int64  \n",
            " 1   metros_totales      1728 non-null   float64\n",
            " 2   antiguedad          1728 non-null   int64  \n",
            " 3   precio_terreno      1728 non-null   int64  \n",
            " 4   metros_habitables   1728 non-null   int64  \n",
            " 5   universitarios      1728 non-null   int64  \n",
            " 6   dormitorios         1728 non-null   int64  \n",
            " 7   chimenea            1728 non-null   int64  \n",
            " 8   banyos              1728 non-null   float64\n",
            " 9   habitaciones        1728 non-null   int64  \n",
            " 10  calefaccion         1728 non-null   object \n",
            " 11  consumo_calefacion  1728 non-null   object \n",
            " 12  desague             1728 non-null   object \n",
            " 13  vistas_lago         1728 non-null   object \n",
            " 14  nueva_construccion  1728 non-null   object \n",
            " 15  aire_acondicionado  1728 non-null   object \n",
            "dtypes: float64(2), int64(8), object(6)\n",
            "memory usage: 216.1+ KB\n"
          ]
        }
      ]
    },
    {
      "cell_type": "markdown",
      "metadata": {
        "id": "eTmpLhvmXUq1"
      },
      "source": [
        "##ANALISIS EXPLORATORIO DE DATOS"
      ]
    },
    {
      "cell_type": "code",
      "metadata": {
        "colab": {
          "base_uri": "https://localhost:8080/",
          "height": 258
        },
        "id": "ZLDDEBQTWoLc",
        "outputId": "e3d130b4-e6dd-4592-db95-a310b9f5d026"
      },
      "source": [
        "df.head()"
      ],
      "execution_count": 7,
      "outputs": [
        {
          "output_type": "execute_result",
          "data": {
            "text/html": [
              "<div>\n",
              "<style scoped>\n",
              "    .dataframe tbody tr th:only-of-type {\n",
              "        vertical-align: middle;\n",
              "    }\n",
              "\n",
              "    .dataframe tbody tr th {\n",
              "        vertical-align: top;\n",
              "    }\n",
              "\n",
              "    .dataframe thead th {\n",
              "        text-align: right;\n",
              "    }\n",
              "</style>\n",
              "<table border=\"1\" class=\"dataframe\">\n",
              "  <thead>\n",
              "    <tr style=\"text-align: right;\">\n",
              "      <th></th>\n",
              "      <th>precio</th>\n",
              "      <th>metros_totales</th>\n",
              "      <th>antiguedad</th>\n",
              "      <th>precio_terreno</th>\n",
              "      <th>metros_habitables</th>\n",
              "      <th>universitarios</th>\n",
              "      <th>dormitorios</th>\n",
              "      <th>chimenea</th>\n",
              "      <th>banyos</th>\n",
              "      <th>habitaciones</th>\n",
              "      <th>calefaccion</th>\n",
              "      <th>consumo_calefacion</th>\n",
              "      <th>desague</th>\n",
              "      <th>vistas_lago</th>\n",
              "      <th>nueva_construccion</th>\n",
              "      <th>aire_acondicionado</th>\n",
              "    </tr>\n",
              "  </thead>\n",
              "  <tbody>\n",
              "    <tr>\n",
              "      <th>0</th>\n",
              "      <td>132500</td>\n",
              "      <td>0.09</td>\n",
              "      <td>42</td>\n",
              "      <td>50000</td>\n",
              "      <td>906</td>\n",
              "      <td>35</td>\n",
              "      <td>2</td>\n",
              "      <td>1</td>\n",
              "      <td>1.0</td>\n",
              "      <td>5</td>\n",
              "      <td>electric</td>\n",
              "      <td>electric</td>\n",
              "      <td>septic</td>\n",
              "      <td>No</td>\n",
              "      <td>No</td>\n",
              "      <td>No</td>\n",
              "    </tr>\n",
              "    <tr>\n",
              "      <th>1</th>\n",
              "      <td>181115</td>\n",
              "      <td>0.92</td>\n",
              "      <td>0</td>\n",
              "      <td>22300</td>\n",
              "      <td>1953</td>\n",
              "      <td>51</td>\n",
              "      <td>3</td>\n",
              "      <td>0</td>\n",
              "      <td>2.5</td>\n",
              "      <td>6</td>\n",
              "      <td>hot water/steam</td>\n",
              "      <td>gas</td>\n",
              "      <td>septic</td>\n",
              "      <td>No</td>\n",
              "      <td>No</td>\n",
              "      <td>No</td>\n",
              "    </tr>\n",
              "    <tr>\n",
              "      <th>2</th>\n",
              "      <td>109000</td>\n",
              "      <td>0.19</td>\n",
              "      <td>133</td>\n",
              "      <td>7300</td>\n",
              "      <td>1944</td>\n",
              "      <td>51</td>\n",
              "      <td>4</td>\n",
              "      <td>1</td>\n",
              "      <td>1.0</td>\n",
              "      <td>8</td>\n",
              "      <td>hot water/steam</td>\n",
              "      <td>gas</td>\n",
              "      <td>public/commercial</td>\n",
              "      <td>No</td>\n",
              "      <td>No</td>\n",
              "      <td>No</td>\n",
              "    </tr>\n",
              "    <tr>\n",
              "      <th>3</th>\n",
              "      <td>155000</td>\n",
              "      <td>0.41</td>\n",
              "      <td>13</td>\n",
              "      <td>18700</td>\n",
              "      <td>1944</td>\n",
              "      <td>51</td>\n",
              "      <td>3</td>\n",
              "      <td>1</td>\n",
              "      <td>1.5</td>\n",
              "      <td>5</td>\n",
              "      <td>hot air</td>\n",
              "      <td>gas</td>\n",
              "      <td>septic</td>\n",
              "      <td>No</td>\n",
              "      <td>No</td>\n",
              "      <td>No</td>\n",
              "    </tr>\n",
              "    <tr>\n",
              "      <th>4</th>\n",
              "      <td>86060</td>\n",
              "      <td>0.11</td>\n",
              "      <td>0</td>\n",
              "      <td>15000</td>\n",
              "      <td>840</td>\n",
              "      <td>51</td>\n",
              "      <td>2</td>\n",
              "      <td>0</td>\n",
              "      <td>1.0</td>\n",
              "      <td>3</td>\n",
              "      <td>hot air</td>\n",
              "      <td>gas</td>\n",
              "      <td>public/commercial</td>\n",
              "      <td>No</td>\n",
              "      <td>Yes</td>\n",
              "      <td>Yes</td>\n",
              "    </tr>\n",
              "  </tbody>\n",
              "</table>\n",
              "</div>"
            ],
            "text/plain": [
              "   precio  metros_totales  ...  nueva_construccion  aire_acondicionado\n",
              "0  132500            0.09  ...                  No                  No\n",
              "1  181115            0.92  ...                  No                  No\n",
              "2  109000            0.19  ...                  No                  No\n",
              "3  155000            0.41  ...                  No                  No\n",
              "4   86060            0.11  ...                 Yes                 Yes\n",
              "\n",
              "[5 rows x 16 columns]"
            ]
          },
          "metadata": {},
          "execution_count": 7
        }
      ]
    },
    {
      "cell_type": "code",
      "metadata": {
        "colab": {
          "base_uri": "https://localhost:8080/",
          "height": 359
        },
        "id": "B1lF4wjbXfML",
        "outputId": "6357f810-79d6-4143-afd8-abce5965e4e4"
      },
      "source": [
        "df.describe().T"
      ],
      "execution_count": 8,
      "outputs": [
        {
          "output_type": "execute_result",
          "data": {
            "text/html": [
              "<div>\n",
              "<style scoped>\n",
              "    .dataframe tbody tr th:only-of-type {\n",
              "        vertical-align: middle;\n",
              "    }\n",
              "\n",
              "    .dataframe tbody tr th {\n",
              "        vertical-align: top;\n",
              "    }\n",
              "\n",
              "    .dataframe thead th {\n",
              "        text-align: right;\n",
              "    }\n",
              "</style>\n",
              "<table border=\"1\" class=\"dataframe\">\n",
              "  <thead>\n",
              "    <tr style=\"text-align: right;\">\n",
              "      <th></th>\n",
              "      <th>count</th>\n",
              "      <th>mean</th>\n",
              "      <th>std</th>\n",
              "      <th>min</th>\n",
              "      <th>25%</th>\n",
              "      <th>50%</th>\n",
              "      <th>75%</th>\n",
              "      <th>max</th>\n",
              "    </tr>\n",
              "  </thead>\n",
              "  <tbody>\n",
              "    <tr>\n",
              "      <th>precio</th>\n",
              "      <td>1728.0</td>\n",
              "      <td>211966.705440</td>\n",
              "      <td>98441.391015</td>\n",
              "      <td>5000.0</td>\n",
              "      <td>145000.00</td>\n",
              "      <td>189900.00</td>\n",
              "      <td>259000.00</td>\n",
              "      <td>775000.0</td>\n",
              "    </tr>\n",
              "    <tr>\n",
              "      <th>metros_totales</th>\n",
              "      <td>1728.0</td>\n",
              "      <td>0.500214</td>\n",
              "      <td>0.698680</td>\n",
              "      <td>0.0</td>\n",
              "      <td>0.17</td>\n",
              "      <td>0.37</td>\n",
              "      <td>0.54</td>\n",
              "      <td>12.2</td>\n",
              "    </tr>\n",
              "    <tr>\n",
              "      <th>antiguedad</th>\n",
              "      <td>1728.0</td>\n",
              "      <td>27.916088</td>\n",
              "      <td>29.209988</td>\n",
              "      <td>0.0</td>\n",
              "      <td>13.00</td>\n",
              "      <td>19.00</td>\n",
              "      <td>34.00</td>\n",
              "      <td>225.0</td>\n",
              "    </tr>\n",
              "    <tr>\n",
              "      <th>precio_terreno</th>\n",
              "      <td>1728.0</td>\n",
              "      <td>34557.187500</td>\n",
              "      <td>35021.168056</td>\n",
              "      <td>200.0</td>\n",
              "      <td>15100.00</td>\n",
              "      <td>25000.00</td>\n",
              "      <td>40200.00</td>\n",
              "      <td>412600.0</td>\n",
              "    </tr>\n",
              "    <tr>\n",
              "      <th>metros_habitables</th>\n",
              "      <td>1728.0</td>\n",
              "      <td>1754.975694</td>\n",
              "      <td>619.935553</td>\n",
              "      <td>616.0</td>\n",
              "      <td>1300.00</td>\n",
              "      <td>1634.50</td>\n",
              "      <td>2137.75</td>\n",
              "      <td>5228.0</td>\n",
              "    </tr>\n",
              "    <tr>\n",
              "      <th>universitarios</th>\n",
              "      <td>1728.0</td>\n",
              "      <td>55.567708</td>\n",
              "      <td>10.333581</td>\n",
              "      <td>20.0</td>\n",
              "      <td>52.00</td>\n",
              "      <td>57.00</td>\n",
              "      <td>64.00</td>\n",
              "      <td>82.0</td>\n",
              "    </tr>\n",
              "    <tr>\n",
              "      <th>dormitorios</th>\n",
              "      <td>1728.0</td>\n",
              "      <td>3.154514</td>\n",
              "      <td>0.817351</td>\n",
              "      <td>1.0</td>\n",
              "      <td>3.00</td>\n",
              "      <td>3.00</td>\n",
              "      <td>4.00</td>\n",
              "      <td>7.0</td>\n",
              "    </tr>\n",
              "    <tr>\n",
              "      <th>chimenea</th>\n",
              "      <td>1728.0</td>\n",
              "      <td>0.601852</td>\n",
              "      <td>0.556102</td>\n",
              "      <td>0.0</td>\n",
              "      <td>0.00</td>\n",
              "      <td>1.00</td>\n",
              "      <td>1.00</td>\n",
              "      <td>4.0</td>\n",
              "    </tr>\n",
              "    <tr>\n",
              "      <th>banyos</th>\n",
              "      <td>1728.0</td>\n",
              "      <td>1.900174</td>\n",
              "      <td>0.658352</td>\n",
              "      <td>0.0</td>\n",
              "      <td>1.50</td>\n",
              "      <td>2.00</td>\n",
              "      <td>2.50</td>\n",
              "      <td>4.5</td>\n",
              "    </tr>\n",
              "    <tr>\n",
              "      <th>habitaciones</th>\n",
              "      <td>1728.0</td>\n",
              "      <td>7.041667</td>\n",
              "      <td>2.316453</td>\n",
              "      <td>2.0</td>\n",
              "      <td>5.00</td>\n",
              "      <td>7.00</td>\n",
              "      <td>8.25</td>\n",
              "      <td>12.0</td>\n",
              "    </tr>\n",
              "  </tbody>\n",
              "</table>\n",
              "</div>"
            ],
            "text/plain": [
              "                    count           mean  ...        75%       max\n",
              "precio             1728.0  211966.705440  ...  259000.00  775000.0\n",
              "metros_totales     1728.0       0.500214  ...       0.54      12.2\n",
              "antiguedad         1728.0      27.916088  ...      34.00     225.0\n",
              "precio_terreno     1728.0   34557.187500  ...   40200.00  412600.0\n",
              "metros_habitables  1728.0    1754.975694  ...    2137.75    5228.0\n",
              "universitarios     1728.0      55.567708  ...      64.00      82.0\n",
              "dormitorios        1728.0       3.154514  ...       4.00       7.0\n",
              "chimenea           1728.0       0.601852  ...       1.00       4.0\n",
              "banyos             1728.0       1.900174  ...       2.50       4.5\n",
              "habitaciones       1728.0       7.041667  ...       8.25      12.0\n",
              "\n",
              "[10 rows x 8 columns]"
            ]
          },
          "metadata": {},
          "execution_count": 8
        }
      ]
    },
    {
      "cell_type": "markdown",
      "metadata": {
        "id": "K7Ub1ZpiXmDx"
      },
      "source": [
        "###Buscando NANs "
      ]
    },
    {
      "cell_type": "code",
      "metadata": {
        "colab": {
          "base_uri": "https://localhost:8080/"
        },
        "id": "RzSjaDu1Xqis",
        "outputId": "184f11cc-dc70-48ed-eae2-46aadd4bda10"
      },
      "source": [
        "#tama;o total de nuestros datos\n",
        "df.shape"
      ],
      "execution_count": 9,
      "outputs": [
        {
          "output_type": "execute_result",
          "data": {
            "text/plain": [
              "(1728, 16)"
            ]
          },
          "metadata": {},
          "execution_count": 9
        }
      ]
    },
    {
      "cell_type": "code",
      "metadata": {
        "colab": {
          "base_uri": "https://localhost:8080/"
        },
        "id": "HisPiwxJXtbb",
        "outputId": "2df9a58a-6a56-4d4d-aea5-c1aaff4aeeb3"
      },
      "source": [
        "df.isna().sum().sort_values()"
      ],
      "execution_count": 10,
      "outputs": [
        {
          "output_type": "execute_result",
          "data": {
            "text/plain": [
              "precio                0\n",
              "metros_totales        0\n",
              "antiguedad            0\n",
              "precio_terreno        0\n",
              "metros_habitables     0\n",
              "universitarios        0\n",
              "dormitorios           0\n",
              "chimenea              0\n",
              "banyos                0\n",
              "habitaciones          0\n",
              "calefaccion           0\n",
              "consumo_calefacion    0\n",
              "desague               0\n",
              "vistas_lago           0\n",
              "nueva_construccion    0\n",
              "aire_acondicionado    0\n",
              "dtype: int64"
            ]
          },
          "metadata": {},
          "execution_count": 10
        }
      ]
    },
    {
      "cell_type": "markdown",
      "metadata": {
        "id": "1-3z1PfNX9Vv"
      },
      "source": [
        "En este conjunto de datos no tenemos NANs. "
      ]
    },
    {
      "cell_type": "markdown",
      "metadata": {
        "id": "KETE_873YHkQ"
      },
      "source": [
        "### Estudio de la distribucion de la variable target"
      ]
    },
    {
      "cell_type": "markdown",
      "metadata": {
        "id": "C6WYRKQQYOsn"
      },
      "source": [
        "Vamos a graficar como estan distribuidos los precios de las casas en nuestro dataframe. "
      ]
    },
    {
      "cell_type": "code",
      "metadata": {
        "colab": {
          "base_uri": "https://localhost:8080/",
          "height": 729
        },
        "id": "l8vzCtp5X4-w",
        "outputId": "2e4b530f-a1a0-4538-d2f1-706e2eb52f68"
      },
      "source": [
        "fig, axes = plt.subplots(nrows=3, ncols=1, figsize= (10,10))\n",
        "\n",
        "#\n",
        "sns.distplot(\n",
        "    df[\"precio\"], hist = False, rug = True, color = \"green\", \n",
        "             kde_kws={\"shade\" : True, \"linewidth\" : 1}, ax = axes[0] \n",
        "             )\n",
        "\n",
        "axes[0].set_title(\"Distribucion original\", fontsize = \"medium\")\n",
        "axes[0].set_xlabel(\"precio\", fontsize = \"small\")\n",
        "axes[0].tick_params(labelsize = 6)\n",
        "\n",
        "#\n",
        "sns.distplot(\n",
        "    np.sqrt(df[\"precio\"]), hist = False, rug = True, color = \"green\", \n",
        "             kde_kws={\"shade\" : True, \"linewidth\" : 1}, ax = axes[1] \n",
        "             )\n",
        "\n",
        "axes[1].set_title(\"Transformacion Raiz cuadrada\", fontsize = \"medium\")\n",
        "axes[1].set_xlabel(\"sqrt(precio)\", fontsize = \"small\")\n",
        "axes[1].tick_params(labelsize = 6)\n",
        "\n",
        "#\n",
        "sns.distplot(\n",
        "    np.log(df[\"precio\"]), hist = False, rug = True, color = \"green\", \n",
        "             kde_kws={\"shade\" : True, \"linewidth\" : 1}, ax = axes[2] \n",
        "             )\n",
        "\n",
        "axes[2].set_title(\"Transformacion Logaritmica\", fontsize = \"medium\")\n",
        "axes[2].set_xlabel(\"sqrt(precio)\", fontsize = \"small\")\n",
        "axes[2].tick_params(labelsize = 6)\n",
        "\n",
        "fig.tight_layout()\n"
      ],
      "execution_count": 11,
      "outputs": [
        {
          "output_type": "display_data",
          "data": {
            "image/png": "[encoded data removed]",
            "text/plain": [
              "<Figure size 720x720 with 3 Axes>"
            ]
          },
          "metadata": {}
        }
      ]
    },
    {
      "cell_type": "markdown",
      "metadata": {
        "id": "58UvXBZ4a5eC"
      },
      "source": [
        "Veamos que tipo de distribucion se ajusta mejor a estos datos usando la libreria **fitter**."
      ]
    },
    {
      "cell_type": "code",
      "metadata": {
        "colab": {
          "base_uri": "https://localhost:8080/"
        },
        "id": "wbGlPD3_X46h",
        "outputId": "dfa4ac57-3ab9-428b-a45e-668217506644"
      },
      "source": [
        "!pip install fitter"
      ],
      "execution_count": 12,
      "outputs": [
        {
          "output_type": "stream",
          "name": "stdout",
          "text": [
            "Collecting fitter\n",
            "  Downloading fitter-1.4.0.tar.gz (27 kB)\n",
            "Collecting easydev\n",
            "  Downloading easydev-0.12.0.tar.gz (47 kB)\n",
            "\u001b[K     |████████████████████████████████| 47 kB 4.2 MB/s \n",
            "\u001b[?25hRequirement already satisfied: numpy in /usr/local/lib/python3.7/dist-packages (from fitter) (1.19.5)\n",
            "Requirement already satisfied: matplotlib in /usr/local/lib/python3.7/dist-packages (from fitter) (3.2.2)\n",
            "Requirement already satisfied: scipy>=0.18 in /usr/local/lib/python3.7/dist-packages (from fitter) (1.4.1)\n",
            "Requirement already satisfied: pandas in /usr/local/lib/python3.7/dist-packages (from fitter) (1.1.5)\n",
            "Requirement already satisfied: click in /usr/local/lib/python3.7/dist-packages (from fitter) (7.1.2)\n",
            "Requirement already satisfied: joblib in /usr/local/lib/python3.7/dist-packages (from fitter) (1.1.0)\n",
            "Collecting colorama\n",
            "  Downloading colorama-0.4.4-py2.py3-none-any.whl (16 kB)\n",
            "Requirement already satisfied: pexpect in /usr/local/lib/python3.7/dist-packages (from easydev->fitter) (4.8.0)\n",
            "Collecting colorlog\n",
            "  Downloading colorlog-6.6.0-py2.py3-none-any.whl (11 kB)\n",
            "Requirement already satisfied: pyparsing!=2.0.4,!=2.1.2,!=2.1.6,>=2.0.1 in /usr/local/lib/python3.7/dist-packages (from matplotlib->fitter) (3.0.6)\n",
            "Requirement already satisfied: python-dateutil>=2.1 in /usr/local/lib/python3.7/dist-packages (from matplotlib->fitter) (2.8.2)\n",
            "Requirement already satisfied: cycler>=0.10 in /usr/local/lib/python3.7/dist-packages (from matplotlib->fitter) (0.11.0)\n",
            "Requirement already satisfied: kiwisolver>=1.0.1 in /usr/local/lib/python3.7/dist-packages (from matplotlib->fitter) (1.3.2)\n",
            "Requirement already satisfied: six>=1.5 in /usr/local/lib/python3.7/dist-packages (from python-dateutil>=2.1->matplotlib->fitter) (1.15.0)\n",
            "Requirement already satisfied: pytz>=2017.2 in /usr/local/lib/python3.7/dist-packages (from pandas->fitter) (2018.9)\n",
            "Requirement already satisfied: ptyprocess>=0.5 in /usr/local/lib/python3.7/dist-packages (from pexpect->easydev->fitter) (0.7.0)\n",
            "Building wheels for collected packages: fitter, easydev\n",
            "  Building wheel for fitter (setup.py) ... \u001b[?25l\u001b[?25hdone\n",
            "  Created wheel for fitter: filename=fitter-1.4.0-py3-none-any.whl size=25025 sha256=c2a958099ea414fc6324e08297f24d19faac621f9d9abccc55f5b14f014fb77b\n",
            "  Stored in directory: /root/.cache/pip/wheels/e1/98/16/e5263962f94fbfaad79902aa94652516caccc1f1d51509e853\n",
            "  Building wheel for easydev (setup.py) ... \u001b[?25l\u001b[?25hdone\n",
            "  Created wheel for easydev: filename=easydev-0.12.0-py3-none-any.whl size=64232 sha256=b81b3dc9d8e7d68aa16619739b03c2e2175f147c75e9191eb285531ce1a5d7a0\n",
            "  Stored in directory: /root/.cache/pip/wheels/82/ab/83/fdfc4017ea44a585b6754752cc5f63f2d0d63fcc1317e7174b\n",
            "Successfully built fitter easydev\n",
            "Installing collected packages: colorlog, colorama, easydev, fitter\n",
            "Successfully installed colorama-0.4.4 colorlog-6.6.0 easydev-0.12.0 fitter-1.4.0\n"
          ]
        }
      ]
    },
    {
      "cell_type": "code",
      "metadata": {
        "id": "07z5JwoyX41i"
      },
      "source": [
        "from fitter import Fitter, get_common_distributions"
      ],
      "execution_count": 13,
      "outputs": []
    },
    {
      "cell_type": "code",
      "metadata": {
        "colab": {
          "base_uri": "https://localhost:8080/",
          "height": 587
        },
        "id": "v-H0qMxwX4zY",
        "outputId": "5c24b184-d81f-4ccd-be48-8137b39647ff"
      },
      "source": [
        "distribuciones = [\"cauchy\", \"chi2\", \"expon\", \"exponpow\", \"gamma\", \"norm\", \"powerlaw\", \"beta\", \"logistic\"]\n",
        "\n",
        "fitter = Fitter(df.precio, distributions=distribuciones)\n",
        "fitter.fit()\n",
        "fitter.summary(Nbest = 10, plot = True)"
      ],
      "execution_count": 14,
      "outputs": [
        {
          "output_type": "execute_result",
          "data": {
            "text/html": [
              "<div>\n",
              "<style scoped>\n",
              "    .dataframe tbody tr th:only-of-type {\n",
              "        vertical-align: middle;\n",
              "    }\n",
              "\n",
              "    .dataframe tbody tr th {\n",
              "        vertical-align: top;\n",
              "    }\n",
              "\n",
              "    .dataframe thead th {\n",
              "        text-align: right;\n",
              "    }\n",
              "</style>\n",
              "<table border=\"1\" class=\"dataframe\">\n",
              "  <thead>\n",
              "    <tr style=\"text-align: right;\">\n",
              "      <th></th>\n",
              "      <th>sumsquare_error</th>\n",
              "      <th>aic</th>\n",
              "      <th>bic</th>\n",
              "      <th>kl_div</th>\n",
              "    </tr>\n",
              "  </thead>\n",
              "  <tbody>\n",
              "    <tr>\n",
              "      <th>beta</th>\n",
              "      <td>2.497420e-11</td>\n",
              "      <td>3068.852573</td>\n",
              "      <td>-55037.908642</td>\n",
              "      <td>inf</td>\n",
              "    </tr>\n",
              "    <tr>\n",
              "      <th>logistic</th>\n",
              "      <td>4.913880e-11</td>\n",
              "      <td>3147.967019</td>\n",
              "      <td>-53883.297831</td>\n",
              "      <td>inf</td>\n",
              "    </tr>\n",
              "    <tr>\n",
              "      <th>cauchy</th>\n",
              "      <td>5.221450e-11</td>\n",
              "      <td>2956.669693</td>\n",
              "      <td>-53778.388707</td>\n",
              "      <td>inf</td>\n",
              "    </tr>\n",
              "    <tr>\n",
              "      <th>chi2</th>\n",
              "      <td>5.776892e-11</td>\n",
              "      <td>3321.818880</td>\n",
              "      <td>-53596.249282</td>\n",
              "      <td>inf</td>\n",
              "    </tr>\n",
              "    <tr>\n",
              "      <th>norm</th>\n",
              "      <td>6.947514e-11</td>\n",
              "      <td>3324.534158</td>\n",
              "      <td>-53284.856663</td>\n",
              "      <td>inf</td>\n",
              "    </tr>\n",
              "    <tr>\n",
              "      <th>expon</th>\n",
              "      <td>2.915346e-10</td>\n",
              "      <td>2824.103160</td>\n",
              "      <td>-50806.577128</td>\n",
              "      <td>inf</td>\n",
              "    </tr>\n",
              "    <tr>\n",
              "      <th>powerlaw</th>\n",
              "      <td>3.078034e-10</td>\n",
              "      <td>2741.669837</td>\n",
              "      <td>-50705.287086</td>\n",
              "      <td>inf</td>\n",
              "    </tr>\n",
              "    <tr>\n",
              "      <th>exponpow</th>\n",
              "      <td>4.841645e-10</td>\n",
              "      <td>inf</td>\n",
              "      <td>-49922.566370</td>\n",
              "      <td>NaN</td>\n",
              "    </tr>\n",
              "    <tr>\n",
              "      <th>gamma</th>\n",
              "      <td>4.841645e-10</td>\n",
              "      <td>inf</td>\n",
              "      <td>-49922.566370</td>\n",
              "      <td>3.958212</td>\n",
              "    </tr>\n",
              "  </tbody>\n",
              "</table>\n",
              "</div>"
            ],
            "text/plain": [
              "          sumsquare_error          aic           bic    kl_div\n",
              "beta         2.497420e-11  3068.852573 -55037.908642       inf\n",
              "logistic     4.913880e-11  3147.967019 -53883.297831       inf\n",
              "cauchy       5.221450e-11  2956.669693 -53778.388707       inf\n",
              "chi2         5.776892e-11  3321.818880 -53596.249282       inf\n",
              "norm         6.947514e-11  3324.534158 -53284.856663       inf\n",
              "expon        2.915346e-10  2824.103160 -50806.577128       inf\n",
              "powerlaw     3.078034e-10  2741.669837 -50705.287086       inf\n",
              "exponpow     4.841645e-10          inf -49922.566370       NaN\n",
              "gamma        4.841645e-10          inf -49922.566370  3.958212"
            ]
          },
          "metadata": {},
          "execution_count": 14
        },
        {
          "output_type": "display_data",
          "data": {
            "image/png": "[encoded data removed]",
            "text/plain": [
              "<Figure size 432x288 with 1 Axes>"
            ]
          },
          "metadata": {}
        }
      ]
    },
    {
      "cell_type": "markdown",
      "metadata": {
        "id": "P-OKXe7Gb91s"
      },
      "source": [
        "La distribucion que mejor se ajusta a los datos es la distribucion beta. \n"
      ]
    },
    {
      "cell_type": "code",
      "metadata": {
        "colab": {
          "base_uri": "https://localhost:8080/",
          "height": 339
        },
        "id": "r8mWpLFFb4sq",
        "outputId": "3fe72dea-1155-47c6-92c3-e6c1743ddea8"
      },
      "source": [
        "fitter.summary(Nbest=1, plot=True)"
      ],
      "execution_count": 15,
      "outputs": [
        {
          "output_type": "execute_result",
          "data": {
            "text/html": [
              "<div>\n",
              "<style scoped>\n",
              "    .dataframe tbody tr th:only-of-type {\n",
              "        vertical-align: middle;\n",
              "    }\n",
              "\n",
              "    .dataframe tbody tr th {\n",
              "        vertical-align: top;\n",
              "    }\n",
              "\n",
              "    .dataframe thead th {\n",
              "        text-align: right;\n",
              "    }\n",
              "</style>\n",
              "<table border=\"1\" class=\"dataframe\">\n",
              "  <thead>\n",
              "    <tr style=\"text-align: right;\">\n",
              "      <th></th>\n",
              "      <th>sumsquare_error</th>\n",
              "      <th>aic</th>\n",
              "      <th>bic</th>\n",
              "      <th>kl_div</th>\n",
              "    </tr>\n",
              "  </thead>\n",
              "  <tbody>\n",
              "    <tr>\n",
              "      <th>beta</th>\n",
              "      <td>2.497420e-11</td>\n",
              "      <td>3068.852573</td>\n",
              "      <td>-55037.908642</td>\n",
              "      <td>inf</td>\n",
              "    </tr>\n",
              "  </tbody>\n",
              "</table>\n",
              "</div>"
            ],
            "text/plain": [
              "      sumsquare_error          aic           bic  kl_div\n",
              "beta     2.497420e-11  3068.852573 -55037.908642     inf"
            ]
          },
          "metadata": {},
          "execution_count": 15
        },
        {
          "output_type": "display_data",
          "data": {
            "image/png": "[encoded data removed]",
            "text/plain": [
              "<Figure size 432x288 with 1 Axes>"
            ]
          },
          "metadata": {}
        }
      ]
    },
    {
      "cell_type": "markdown",
      "metadata": {
        "id": "XAZPfhwXcSCt"
      },
      "source": [
        "###Analisis de variables numericas "
      ]
    },
    {
      "cell_type": "code",
      "metadata": {
        "colab": {
          "base_uri": "https://localhost:8080/"
        },
        "id": "-vUeHkAPcSVl",
        "outputId": "6cd3a149-9201-4b24-d47d-15f9085269f5"
      },
      "source": [
        "df.info()"
      ],
      "execution_count": 16,
      "outputs": [
        {
          "output_type": "stream",
          "name": "stdout",
          "text": [
            "<class 'pandas.core.frame.DataFrame'>\n",
            "RangeIndex: 1728 entries, 0 to 1727\n",
            "Data columns (total 16 columns):\n",
            " #   Column              Non-Null Count  Dtype  \n",
            "---  ------              --------------  -----  \n",
            " 0   precio              1728 non-null   int64  \n",
            " 1   metros_totales      1728 non-null   float64\n",
            " 2   antiguedad          1728 non-null   int64  \n",
            " 3   precio_terreno      1728 non-null   int64  \n",
            " 4   metros_habitables   1728 non-null   int64  \n",
            " 5   universitarios      1728 non-null   int64  \n",
            " 6   dormitorios         1728 non-null   int64  \n",
            " 7   chimenea            1728 non-null   int64  \n",
            " 8   banyos              1728 non-null   float64\n",
            " 9   habitaciones        1728 non-null   int64  \n",
            " 10  calefaccion         1728 non-null   object \n",
            " 11  consumo_calefacion  1728 non-null   object \n",
            " 12  desague             1728 non-null   object \n",
            " 13  vistas_lago         1728 non-null   object \n",
            " 14  nueva_construccion  1728 non-null   object \n",
            " 15  aire_acondicionado  1728 non-null   object \n",
            "dtypes: float64(2), int64(8), object(6)\n",
            "memory usage: 216.1+ KB\n"
          ]
        }
      ]
    },
    {
      "cell_type": "markdown",
      "metadata": {
        "id": "Tlc_QTjYcf7l"
      },
      "source": [
        ""
      ]
    },
    {
      "cell_type": "code",
      "metadata": {
        "colab": {
          "base_uri": "https://localhost:8080/",
          "height": 359
        },
        "id": "uqk92t_7cfat",
        "outputId": "60a34778-9b2e-4dac-f2f1-008b0142c18f"
      },
      "source": [
        "df.select_dtypes(include= [\"float64\", \"int64\"]).describe().T"
      ],
      "execution_count": 17,
      "outputs": [
        {
          "output_type": "execute_result",
          "data": {
            "text/html": [
              "<div>\n",
              "<style scoped>\n",
              "    .dataframe tbody tr th:only-of-type {\n",
              "        vertical-align: middle;\n",
              "    }\n",
              "\n",
              "    .dataframe tbody tr th {\n",
              "        vertical-align: top;\n",
              "    }\n",
              "\n",
              "    .dataframe thead th {\n",
              "        text-align: right;\n",
              "    }\n",
              "</style>\n",
              "<table border=\"1\" class=\"dataframe\">\n",
              "  <thead>\n",
              "    <tr style=\"text-align: right;\">\n",
              "      <th></th>\n",
              "      <th>count</th>\n",
              "      <th>mean</th>\n",
              "      <th>std</th>\n",
              "      <th>min</th>\n",
              "      <th>25%</th>\n",
              "      <th>50%</th>\n",
              "      <th>75%</th>\n",
              "      <th>max</th>\n",
              "    </tr>\n",
              "  </thead>\n",
              "  <tbody>\n",
              "    <tr>\n",
              "      <th>precio</th>\n",
              "      <td>1728.0</td>\n",
              "      <td>211966.705440</td>\n",
              "      <td>98441.391015</td>\n",
              "      <td>5000.0</td>\n",
              "      <td>145000.00</td>\n",
              "      <td>189900.00</td>\n",
              "      <td>259000.00</td>\n",
              "      <td>775000.0</td>\n",
              "    </tr>\n",
              "    <tr>\n",
              "      <th>metros_totales</th>\n",
              "      <td>1728.0</td>\n",
              "      <td>0.500214</td>\n",
              "      <td>0.698680</td>\n",
              "      <td>0.0</td>\n",
              "      <td>0.17</td>\n",
              "      <td>0.37</td>\n",
              "      <td>0.54</td>\n",
              "      <td>12.2</td>\n",
              "    </tr>\n",
              "    <tr>\n",
              "      <th>antiguedad</th>\n",
              "      <td>1728.0</td>\n",
              "      <td>27.916088</td>\n",
              "      <td>29.209988</td>\n",
              "      <td>0.0</td>\n",
              "      <td>13.00</td>\n",
              "      <td>19.00</td>\n",
              "      <td>34.00</td>\n",
              "      <td>225.0</td>\n",
              "    </tr>\n",
              "    <tr>\n",
              "      <th>precio_terreno</th>\n",
              "      <td>1728.0</td>\n",
              "      <td>34557.187500</td>\n",
              "      <td>35021.168056</td>\n",
              "      <td>200.0</td>\n",
              "      <td>15100.00</td>\n",
              "      <td>25000.00</td>\n",
              "      <td>40200.00</td>\n",
              "      <td>412600.0</td>\n",
              "    </tr>\n",
              "    <tr>\n",
              "      <th>metros_habitables</th>\n",
              "      <td>1728.0</td>\n",
              "      <td>1754.975694</td>\n",
              "      <td>619.935553</td>\n",
              "      <td>616.0</td>\n",
              "      <td>1300.00</td>\n",
              "      <td>1634.50</td>\n",
              "      <td>2137.75</td>\n",
              "      <td>5228.0</td>\n",
              "    </tr>\n",
              "    <tr>\n",
              "      <th>universitarios</th>\n",
              "      <td>1728.0</td>\n",
              "      <td>55.567708</td>\n",
              "      <td>10.333581</td>\n",
              "      <td>20.0</td>\n",
              "      <td>52.00</td>\n",
              "      <td>57.00</td>\n",
              "      <td>64.00</td>\n",
              "      <td>82.0</td>\n",
              "    </tr>\n",
              "    <tr>\n",
              "      <th>dormitorios</th>\n",
              "      <td>1728.0</td>\n",
              "      <td>3.154514</td>\n",
              "      <td>0.817351</td>\n",
              "      <td>1.0</td>\n",
              "      <td>3.00</td>\n",
              "      <td>3.00</td>\n",
              "      <td>4.00</td>\n",
              "      <td>7.0</td>\n",
              "    </tr>\n",
              "    <tr>\n",
              "      <th>chimenea</th>\n",
              "      <td>1728.0</td>\n",
              "      <td>0.601852</td>\n",
              "      <td>0.556102</td>\n",
              "      <td>0.0</td>\n",
              "      <td>0.00</td>\n",
              "      <td>1.00</td>\n",
              "      <td>1.00</td>\n",
              "      <td>4.0</td>\n",
              "    </tr>\n",
              "    <tr>\n",
              "      <th>banyos</th>\n",
              "      <td>1728.0</td>\n",
              "      <td>1.900174</td>\n",
              "      <td>0.658352</td>\n",
              "      <td>0.0</td>\n",
              "      <td>1.50</td>\n",
              "      <td>2.00</td>\n",
              "      <td>2.50</td>\n",
              "      <td>4.5</td>\n",
              "    </tr>\n",
              "    <tr>\n",
              "      <th>habitaciones</th>\n",
              "      <td>1728.0</td>\n",
              "      <td>7.041667</td>\n",
              "      <td>2.316453</td>\n",
              "      <td>2.0</td>\n",
              "      <td>5.00</td>\n",
              "      <td>7.00</td>\n",
              "      <td>8.25</td>\n",
              "      <td>12.0</td>\n",
              "    </tr>\n",
              "  </tbody>\n",
              "</table>\n",
              "</div>"
            ],
            "text/plain": [
              "                    count           mean  ...        75%       max\n",
              "precio             1728.0  211966.705440  ...  259000.00  775000.0\n",
              "metros_totales     1728.0       0.500214  ...       0.54      12.2\n",
              "antiguedad         1728.0      27.916088  ...      34.00     225.0\n",
              "precio_terreno     1728.0   34557.187500  ...   40200.00  412600.0\n",
              "metros_habitables  1728.0    1754.975694  ...    2137.75    5228.0\n",
              "universitarios     1728.0      55.567708  ...      64.00      82.0\n",
              "dormitorios        1728.0       3.154514  ...       4.00       7.0\n",
              "chimenea           1728.0       0.601852  ...       1.00       4.0\n",
              "banyos             1728.0       1.900174  ...       2.50       4.5\n",
              "habitaciones       1728.0       7.041667  ...       8.25      12.0\n",
              "\n",
              "[10 rows x 8 columns]"
            ]
          },
          "metadata": {},
          "execution_count": 17
        }
      ]
    },
    {
      "cell_type": "code",
      "metadata": {
        "colab": {
          "base_uri": "https://localhost:8080/",
          "height": 609
        },
        "id": "G4GiL8VfcwrE",
        "outputId": "f1d11dba-efdd-42a0-e764-588971ba745a"
      },
      "source": [
        " fig, axes = plt.subplots(nrows=3, ncols=3, figsize=(10,10))\n",
        "axes = axes.flat\n",
        "col_numericas = df.select_dtypes(include=[\"int64\", \"float64\"]).columns \n",
        "col_numericas = col_numericas.drop(\"precio\")\n",
        "\n",
        "#Histogramas de las variables numericas\n",
        "\n",
        "for i, colum in enumerate(col_numericas): \n",
        "  sns.histplot(\n",
        "      data = df, \n",
        "      x = colum,\n",
        "      stat = \"count\", \n",
        "      kde = True, \n",
        "      color = (list(plt.rcParams['axes.prop_cycle'])*2)[i][\"color\"], \n",
        "      line_kws = {\"linewidth\" : 2}, \n",
        "      ax= axes[i]\n",
        "      )\n"
      ],
      "execution_count": 18,
      "outputs": [
        {
          "output_type": "display_data",
          "data": {
            "image/png": "[encoded data removed]",
            "text/plain": [
              "<Figure size 720x720 with 9 Axes>"
            ]
          },
          "metadata": {}
        }
      ]
    },
    {
      "cell_type": "code",
      "metadata": {
        "id": "FuSeleJXd7Ui",
        "colab": {
          "base_uri": "https://localhost:8080/"
        },
        "outputId": "d76424e5-5846-4916-e0ba-c5fea50a3997"
      },
      "source": [
        "df.chimenea.value_counts()\n"
      ],
      "execution_count": 19,
      "outputs": [
        {
          "output_type": "execute_result",
          "data": {
            "text/plain": [
              "1    942\n",
              "0    740\n",
              "2     42\n",
              "4      2\n",
              "3      2\n",
              "Name: chimenea, dtype: int64"
            ]
          },
          "metadata": {},
          "execution_count": 19
        }
      ]
    },
    {
      "cell_type": "code",
      "metadata": {
        "id": "3az-GU8FgO2B"
      },
      "source": [
        "df.chimenea = df.chimenea.astype(\"str\")\n"
      ],
      "execution_count": 20,
      "outputs": []
    },
    {
      "cell_type": "code",
      "metadata": {
        "id": "K8ulJkEsgkE9"
      },
      "source": [
        "import matplotlib.ticker as ticker\n"
      ],
      "execution_count": 21,
      "outputs": []
    },
    {
      "cell_type": "code",
      "metadata": {
        "colab": {
          "base_uri": "https://localhost:8080/",
          "height": 514
        },
        "id": "rgrT860ugRwq",
        "outputId": "acd3354f-235a-478b-e31e-056bf8b8e65a"
      },
      "source": [
        "fig, axes = plt.subplots(nrows=3, ncols=3, figsize=(11, 7))\n",
        "axes = axes.flat\n",
        "columnas_numeric = df.select_dtypes(include=['float64', 'int']).columns\n",
        "columnas_numeric = columnas_numeric.drop('precio')\n",
        "\n",
        "for i, colum in enumerate(columnas_numeric):\n",
        "    sns.regplot(\n",
        "        x           = df[colum],\n",
        "        y           = df['precio'],\n",
        "        color       = \"blue\",\n",
        "        marker      = '.',\n",
        "        scatter_kws = {\"alpha\":0.2},\n",
        "        line_kws    = {\"color\":\"r\",\"alpha\":0.7},\n",
        "        ax          = axes[i]\n",
        "    )\n",
        "    axes[i].set_title(f\"precio vs {colum}\", fontsize = 7, fontweight = \"bold\")\n",
        "    #axes[i].ticklabel_format(style='sci', scilimits=(-4,4), axis='both')\n",
        "    axes[i].yaxis.set_major_formatter(ticker.EngFormatter())\n",
        "    axes[i].xaxis.set_major_formatter(ticker.EngFormatter())\n",
        "    axes[i].tick_params(labelsize = 6)\n",
        "    axes[i].set_xlabel(\"\")\n",
        "    axes[i].set_ylabel(\"\")\n",
        "\n",
        "# Se eliminan los axes vacíos\n",
        "for i in [8]:\n",
        "    fig.delaxes(axes[i])\n",
        "    \n",
        "fig.tight_layout()\n",
        "plt.subplots_adjust(top=0.9)\n",
        "fig.suptitle('Correlación con precio', fontsize = 10, fontweight = \"bold\");"
      ],
      "execution_count": 22,
      "outputs": [
        {
          "output_type": "display_data",
          "data": {
            "image/png": "[encoded data removed]",
            "text/plain": [
              "<Figure size 792x504 with 8 Axes>"
            ]
          },
          "metadata": {}
        }
      ]
    },
    {
      "cell_type": "code",
      "metadata": {
        "id": "qJy54O2Mg9Vn"
      },
      "source": [
        " "
      ],
      "execution_count": 22,
      "outputs": []
    },
    {
      "cell_type": "markdown",
      "metadata": {
        "id": "6OybaZKiwPd1"
      },
      "source": [
        "####correlacion entre las variables numericas"
      ]
    },
    {
      "cell_type": "code",
      "metadata": {
        "colab": {
          "base_uri": "https://localhost:8080/",
          "height": 328
        },
        "id": "bXq9SuQywSRn",
        "outputId": "8acc65eb-7f74-4fbd-dcc4-ff289a25f7d6"
      },
      "source": [
        "var_num_corr=df.select_dtypes(include= [\"float64\", \"int64\"]).corr()\n",
        "var_num_corr"
      ],
      "execution_count": 23,
      "outputs": [
        {
          "output_type": "execute_result",
          "data": {
            "text/html": [
              "<div>\n",
              "<style scoped>\n",
              "    .dataframe tbody tr th:only-of-type {\n",
              "        vertical-align: middle;\n",
              "    }\n",
              "\n",
              "    .dataframe tbody tr th {\n",
              "        vertical-align: top;\n",
              "    }\n",
              "\n",
              "    .dataframe thead th {\n",
              "        text-align: right;\n",
              "    }\n",
              "</style>\n",
              "<table border=\"1\" class=\"dataframe\">\n",
              "  <thead>\n",
              "    <tr style=\"text-align: right;\">\n",
              "      <th></th>\n",
              "      <th>precio</th>\n",
              "      <th>metros_totales</th>\n",
              "      <th>antiguedad</th>\n",
              "      <th>precio_terreno</th>\n",
              "      <th>metros_habitables</th>\n",
              "      <th>universitarios</th>\n",
              "      <th>dormitorios</th>\n",
              "      <th>banyos</th>\n",
              "      <th>habitaciones</th>\n",
              "    </tr>\n",
              "  </thead>\n",
              "  <tbody>\n",
              "    <tr>\n",
              "      <th>precio</th>\n",
              "      <td>1.000000</td>\n",
              "      <td>0.158333</td>\n",
              "      <td>-0.188793</td>\n",
              "      <td>0.581266</td>\n",
              "      <td>0.712390</td>\n",
              "      <td>0.200119</td>\n",
              "      <td>0.400349</td>\n",
              "      <td>0.597250</td>\n",
              "      <td>0.531170</td>\n",
              "    </tr>\n",
              "    <tr>\n",
              "      <th>metros_totales</th>\n",
              "      <td>0.158333</td>\n",
              "      <td>1.000000</td>\n",
              "      <td>-0.016352</td>\n",
              "      <td>0.059222</td>\n",
              "      <td>0.163450</td>\n",
              "      <td>-0.033148</td>\n",
              "      <td>0.113982</td>\n",
              "      <td>0.084823</td>\n",
              "      <td>0.137604</td>\n",
              "    </tr>\n",
              "    <tr>\n",
              "      <th>antiguedad</th>\n",
              "      <td>-0.188793</td>\n",
              "      <td>-0.016352</td>\n",
              "      <td>1.000000</td>\n",
              "      <td>-0.021818</td>\n",
              "      <td>-0.174242</td>\n",
              "      <td>-0.037785</td>\n",
              "      <td>0.027125</td>\n",
              "      <td>-0.361897</td>\n",
              "      <td>-0.082264</td>\n",
              "    </tr>\n",
              "    <tr>\n",
              "      <th>precio_terreno</th>\n",
              "      <td>0.581266</td>\n",
              "      <td>0.059222</td>\n",
              "      <td>-0.021818</td>\n",
              "      <td>1.000000</td>\n",
              "      <td>0.423441</td>\n",
              "      <td>0.228427</td>\n",
              "      <td>0.202449</td>\n",
              "      <td>0.297498</td>\n",
              "      <td>0.298865</td>\n",
              "    </tr>\n",
              "    <tr>\n",
              "      <th>metros_habitables</th>\n",
              "      <td>0.712390</td>\n",
              "      <td>0.163450</td>\n",
              "      <td>-0.174242</td>\n",
              "      <td>0.423441</td>\n",
              "      <td>1.000000</td>\n",
              "      <td>0.209981</td>\n",
              "      <td>0.656196</td>\n",
              "      <td>0.718564</td>\n",
              "      <td>0.733666</td>\n",
              "    </tr>\n",
              "    <tr>\n",
              "      <th>universitarios</th>\n",
              "      <td>0.200119</td>\n",
              "      <td>-0.033148</td>\n",
              "      <td>-0.037785</td>\n",
              "      <td>0.228427</td>\n",
              "      <td>0.209981</td>\n",
              "      <td>1.000000</td>\n",
              "      <td>0.162919</td>\n",
              "      <td>0.179541</td>\n",
              "      <td>0.157068</td>\n",
              "    </tr>\n",
              "    <tr>\n",
              "      <th>dormitorios</th>\n",
              "      <td>0.400349</td>\n",
              "      <td>0.113982</td>\n",
              "      <td>0.027125</td>\n",
              "      <td>0.202449</td>\n",
              "      <td>0.656196</td>\n",
              "      <td>0.162919</td>\n",
              "      <td>1.000000</td>\n",
              "      <td>0.458033</td>\n",
              "      <td>0.671863</td>\n",
              "    </tr>\n",
              "    <tr>\n",
              "      <th>banyos</th>\n",
              "      <td>0.597250</td>\n",
              "      <td>0.084823</td>\n",
              "      <td>-0.361897</td>\n",
              "      <td>0.297498</td>\n",
              "      <td>0.718564</td>\n",
              "      <td>0.179541</td>\n",
              "      <td>0.458033</td>\n",
              "      <td>1.000000</td>\n",
              "      <td>0.517585</td>\n",
              "    </tr>\n",
              "    <tr>\n",
              "      <th>habitaciones</th>\n",
              "      <td>0.531170</td>\n",
              "      <td>0.137604</td>\n",
              "      <td>-0.082264</td>\n",
              "      <td>0.298865</td>\n",
              "      <td>0.733666</td>\n",
              "      <td>0.157068</td>\n",
              "      <td>0.671863</td>\n",
              "      <td>0.517585</td>\n",
              "      <td>1.000000</td>\n",
              "    </tr>\n",
              "  </tbody>\n",
              "</table>\n",
              "</div>"
            ],
            "text/plain": [
              "                     precio  metros_totales  ...    banyos  habitaciones\n",
              "precio             1.000000        0.158333  ...  0.597250      0.531170\n",
              "metros_totales     0.158333        1.000000  ...  0.084823      0.137604\n",
              "antiguedad        -0.188793       -0.016352  ... -0.361897     -0.082264\n",
              "precio_terreno     0.581266        0.059222  ...  0.297498      0.298865\n",
              "metros_habitables  0.712390        0.163450  ...  0.718564      0.733666\n",
              "universitarios     0.200119       -0.033148  ...  0.179541      0.157068\n",
              "dormitorios        0.400349        0.113982  ...  0.458033      0.671863\n",
              "banyos             0.597250        0.084823  ...  1.000000      0.517585\n",
              "habitaciones       0.531170        0.137604  ...  0.517585      1.000000\n",
              "\n",
              "[9 rows x 9 columns]"
            ]
          },
          "metadata": {},
          "execution_count": 23
        }
      ]
    },
    {
      "cell_type": "code",
      "metadata": {
        "colab": {
          "base_uri": "https://localhost:8080/",
          "height": 427
        },
        "id": "1dhQHt0QwSoi",
        "outputId": "a22a1607-4034-44e9-b28b-491fe7ad3724"
      },
      "source": [
        "fig, ax = plt.subplots(nrows=1, ncols = 1, figsize = (6,6))\n",
        "\n",
        "sns.heatmap(data=var_num_corr, vmin=-1, vmax=1, annot=True, linewidths=0.3 )\n",
        "\n",
        "ax.set_xticklabels(\n",
        "    ax.get_xticklabels(),\n",
        "    rotation = 45,\n",
        "    horizontalalignment = 'right',\n",
        ")\n",
        "\n",
        "ax.tick_params(labelsize = 8)"
      ],
      "execution_count": 24,
      "outputs": [
        {
          "output_type": "display_data",
          "data": {
            "image/png": "[encoded data removed]",
            "text/plain": [
              "<Figure size 432x432 with 2 Axes>"
            ]
          },
          "metadata": {}
        }
      ]
    },
    {
      "cell_type": "markdown",
      "metadata": {
        "id": "Zcl5upKiJTuZ"
      },
      "source": [
        "###Analisis de variables cualitativas"
      ]
    },
    {
      "cell_type": "code",
      "metadata": {
        "id": "01GTZ8NIwSl2",
        "colab": {
          "base_uri": "https://localhost:8080/",
          "height": 266
        },
        "outputId": "9887bc55-a5e6-4865-aa2e-4216250fb342"
      },
      "source": [
        "df.select_dtypes(include = [\"object\"]).describe().T"
      ],
      "execution_count": 25,
      "outputs": [
        {
          "output_type": "execute_result",
          "data": {
            "text/html": [
              "<div>\n",
              "<style scoped>\n",
              "    .dataframe tbody tr th:only-of-type {\n",
              "        vertical-align: middle;\n",
              "    }\n",
              "\n",
              "    .dataframe tbody tr th {\n",
              "        vertical-align: top;\n",
              "    }\n",
              "\n",
              "    .dataframe thead th {\n",
              "        text-align: right;\n",
              "    }\n",
              "</style>\n",
              "<table border=\"1\" class=\"dataframe\">\n",
              "  <thead>\n",
              "    <tr style=\"text-align: right;\">\n",
              "      <th></th>\n",
              "      <th>count</th>\n",
              "      <th>unique</th>\n",
              "      <th>top</th>\n",
              "      <th>freq</th>\n",
              "    </tr>\n",
              "  </thead>\n",
              "  <tbody>\n",
              "    <tr>\n",
              "      <th>chimenea</th>\n",
              "      <td>1728</td>\n",
              "      <td>5</td>\n",
              "      <td>1</td>\n",
              "      <td>942</td>\n",
              "    </tr>\n",
              "    <tr>\n",
              "      <th>calefaccion</th>\n",
              "      <td>1728</td>\n",
              "      <td>3</td>\n",
              "      <td>hot air</td>\n",
              "      <td>1121</td>\n",
              "    </tr>\n",
              "    <tr>\n",
              "      <th>consumo_calefacion</th>\n",
              "      <td>1728</td>\n",
              "      <td>3</td>\n",
              "      <td>gas</td>\n",
              "      <td>1197</td>\n",
              "    </tr>\n",
              "    <tr>\n",
              "      <th>desague</th>\n",
              "      <td>1728</td>\n",
              "      <td>3</td>\n",
              "      <td>public/commercial</td>\n",
              "      <td>1213</td>\n",
              "    </tr>\n",
              "    <tr>\n",
              "      <th>vistas_lago</th>\n",
              "      <td>1728</td>\n",
              "      <td>2</td>\n",
              "      <td>No</td>\n",
              "      <td>1713</td>\n",
              "    </tr>\n",
              "    <tr>\n",
              "      <th>nueva_construccion</th>\n",
              "      <td>1728</td>\n",
              "      <td>2</td>\n",
              "      <td>No</td>\n",
              "      <td>1647</td>\n",
              "    </tr>\n",
              "    <tr>\n",
              "      <th>aire_acondicionado</th>\n",
              "      <td>1728</td>\n",
              "      <td>2</td>\n",
              "      <td>No</td>\n",
              "      <td>1093</td>\n",
              "    </tr>\n",
              "  </tbody>\n",
              "</table>\n",
              "</div>"
            ],
            "text/plain": [
              "                   count unique                top  freq\n",
              "chimenea            1728      5                  1   942\n",
              "calefaccion         1728      3            hot air  1121\n",
              "consumo_calefacion  1728      3                gas  1197\n",
              "desague             1728      3  public/commercial  1213\n",
              "vistas_lago         1728      2                 No  1713\n",
              "nueva_construccion  1728      2                 No  1647\n",
              "aire_acondicionado  1728      2                 No  1093"
            ]
          },
          "metadata": {},
          "execution_count": 25
        }
      ]
    },
    {
      "cell_type": "code",
      "metadata": {
        "id": "2iUt2N9gMM3T"
      },
      "source": [
        ""
      ],
      "execution_count": 25,
      "outputs": []
    },
    {
      "cell_type": "code",
      "metadata": {
        "id": "SMnkCQJ0wSi9",
        "colab": {
          "base_uri": "https://localhost:8080/",
          "height": 726
        },
        "outputId": "0efc1c4b-a0e6-49f4-cca8-487565c1015d"
      },
      "source": [
        "fig, axes = plt.subplots(nrows=3, ncols=3, figsize=(18,10))\n",
        "axes = axes.flat\n",
        "col_cat = df.select_dtypes(include=[\"object\"]).columns \n",
        "\n",
        "#graficas de barras de las variables numericas\n",
        "\n",
        "for i, colum in enumerate(col_cat):\n",
        "  (df[colum].value_counts()/len(df[colum])).plot.barh(ax=axes[i])\n",
        "  axes[i].set_title(colum)\n",
        "  axes[i].set_xlabel(\"\")\n",
        "\n",
        "#eliminar la grafica vacia\n",
        "for i in [7,8]: \n",
        "  fig.delaxes(axes[i])   \n",
        "\n",
        "fig.tight_layout()\n",
        "plt.subplots_adjust(top=0.9)\n",
        "fig.suptitle('Distribución variables cualitativas',\n",
        "             fontsize= 25, fontweight = \"bold\");\n"
      ],
      "execution_count": 26,
      "outputs": [
        {
          "output_type": "display_data",
          "data": {
            "image/png": "[encoded data removed]",
            "text/plain": [
              "<Figure size 1296x720 with 7 Axes>"
            ]
          },
          "metadata": {}
        }
      ]
    },
    {
      "cell_type": "markdown",
      "metadata": {
        "id": "92gP7i0OQUDo"
      },
      "source": [
        "En la variable *chimenea*  tenemos que muy pocas casas cuentan con 2 o mas chimeneas, por lo que es conveniente dejarlo en una misma variable para que al momento de hacer nuestra validacion cruzada tenga mejores resultados."
      ]
    },
    {
      "cell_type": "code",
      "metadata": {
        "colab": {
          "base_uri": "https://localhost:8080/"
        },
        "id": "37Cv7oV_Qw4_",
        "outputId": "076fce03-58e6-49b0-b149-a2830b71559b"
      },
      "source": [
        "df[\"chimenea\"].value_counts().sort_index()"
      ],
      "execution_count": 27,
      "outputs": [
        {
          "output_type": "execute_result",
          "data": {
            "text/plain": [
              "0    740\n",
              "1    942\n",
              "2     42\n",
              "3      2\n",
              "4      2\n",
              "Name: chimenea, dtype: int64"
            ]
          },
          "metadata": {},
          "execution_count": 27
        }
      ]
    },
    {
      "cell_type": "code",
      "metadata": {
        "id": "LtEYyTZhRfmk"
      },
      "source": [
        ""
      ],
      "execution_count": 27,
      "outputs": []
    },
    {
      "cell_type": "code",
      "metadata": {
        "id": "YmezdC85Q_Gg"
      },
      "source": [
        "dic_replace = { \"2\" : \"2_mas\", \n",
        "               \"3\" : \"2_mas\", \n",
        "               \"4\" : \"2_mas\"    \n",
        "}\n",
        "\n",
        "df[\"chimenea\"] = df[\"chimenea\"].map(dic_replace).fillna(df[\"chimenea\"])"
      ],
      "execution_count": 28,
      "outputs": []
    },
    {
      "cell_type": "code",
      "metadata": {
        "colab": {
          "base_uri": "https://localhost:8080/"
        },
        "id": "BUBXBDPWRmDX",
        "outputId": "5801982b-39c1-4717-f6ab-271f46c935f9"
      },
      "source": [
        "df[\"chimenea\"].value_counts().sort_index()"
      ],
      "execution_count": 29,
      "outputs": [
        {
          "output_type": "execute_result",
          "data": {
            "text/plain": [
              "0        740\n",
              "1        942\n",
              "2_mas     46\n",
              "Name: chimenea, dtype: int64"
            ]
          },
          "metadata": {},
          "execution_count": 29
        }
      ]
    },
    {
      "cell_type": "markdown",
      "metadata": {
        "id": "Y5IVFLeuR0Oc"
      },
      "source": [
        "####Relación precio y variables cualitativas"
      ]
    },
    {
      "cell_type": "code",
      "metadata": {
        "colab": {
          "base_uri": "https://localhost:8080/",
          "height": 726
        },
        "id": "kABWeJCdRrrZ",
        "outputId": "3ecf79f4-a75a-4b1a-e4db-c1a65f47ab36"
      },
      "source": [
        "fig, axes = plt.subplots(nrows=3, ncols = 3, figsize= (18,10))\n",
        "axes = axes.flat\n",
        "col_cat = df.select_dtypes(include =[\"object\"]).columns\n",
        "\n",
        "for i, colum in enumerate(col_cat): \n",
        "  sns.boxplot(\n",
        "      x = colum, \n",
        "      y = 'precio', \n",
        "      data = df, \n",
        "      color = (list(plt.rcParams['axes.prop_cycle'])*2)[i][\"color\"], \n",
        "      ax = axes[i]\n",
        "  )\n",
        "  axes[i].set_title(f\"precio vs {colum}\", fontsize = 10, fontweight = \"bold\")\n",
        "  axes[i].set_xlabel('')\n",
        "  axes[i].set_ylabel('')\n",
        "\n",
        "for i in [7,8]: \n",
        "  fig.delaxes(axes[i])\n",
        "\n",
        "fig.tight_layout()\n",
        "plt.subplots_adjust(top=0.9)\n",
        "fig.suptitle(\"Distribucion del precio por grupo\", fontsize = 25, fontweight = \"bold\");"
      ],
      "execution_count": 30,
      "outputs": [
        {
          "output_type": "display_data",
          "data": {
            "image/png": "[encoded data removed]",
            "text/plain": [
              "<Figure size 1296x720 with 7 Axes>"
            ]
          },
          "metadata": {}
        }
      ]
    },
    {
      "cell_type": "markdown",
      "metadata": {
        "id": "_ZarfrmuUSWc"
      },
      "source": [
        "##DIVISIÓN TRAIN Y TEST"
      ]
    },
    {
      "cell_type": "markdown",
      "metadata": {
        "id": "c-22gMb0XAhc"
      },
      "source": [
        "Tomaremos todas las variables excepto la variable target \"**precio**\" como variables independientes."
      ]
    },
    {
      "cell_type": "markdown",
      "metadata": {
        "id": "LA-bJg3uA4Z2"
      },
      "source": [
        "####train_test_split()\n"
      ]
    },
    {
      "cell_type": "code",
      "metadata": {
        "id": "iRy3oWZAUV2n"
      },
      "source": [
        "from sklearn.model_selection import train_test_split\n",
        "\n",
        "X_train, X_test, y_train, y_test  = train_test_split(df.drop(\"precio\", axis = \"columns\"), \n",
        "                                                     df[\"precio\"], \n",
        "                                                     train_size = 0.8, \n",
        "                                                     random_state = 1234\n",
        "                                                      )"
      ],
      "execution_count": 31,
      "outputs": []
    },
    {
      "cell_type": "markdown",
      "metadata": {
        "id": "JDLW9h99XWpb"
      },
      "source": [
        "Descripcion de los datos de la variable dependiente \"**precio**\" usados para **entrenar** el modelo"
      ]
    },
    {
      "cell_type": "code",
      "metadata": {
        "colab": {
          "base_uri": "https://localhost:8080/"
        },
        "id": "qUNT39nHW9P_",
        "outputId": "0e270859-3338-4e5e-c77c-79c7f66f7291"
      },
      "source": [
        "print(\"Partición de entrenamento\")\n",
        "print(\"-----------------------\")\n",
        "print(y_train.describe())"
      ],
      "execution_count": 32,
      "outputs": [
        {
          "output_type": "stream",
          "name": "stdout",
          "text": [
            "Partición de entrenamento\n",
            "-----------------------\n",
            "count      1382.000000\n",
            "mean     211436.516643\n",
            "std       96846.639129\n",
            "min       10300.000000\n",
            "25%      145625.000000\n",
            "50%      190000.000000\n",
            "75%      255000.000000\n",
            "max      775000.000000\n",
            "Name: precio, dtype: float64\n"
          ]
        }
      ]
    },
    {
      "cell_type": "markdown",
      "metadata": {
        "id": "ClC6SiyKXXRi"
      },
      "source": [
        "Descripcion de los datos de la variable dependiente \"**precio**\" usados para **probar** el modelo"
      ]
    },
    {
      "cell_type": "code",
      "metadata": {
        "colab": {
          "base_uri": "https://localhost:8080/"
        },
        "id": "ONWrJ3vDXT8E",
        "outputId": "6585a887-a788-44d4-f9fc-7dcb84893bb7"
      },
      "source": [
        "print(\"Partición de test\")\n",
        "print(\"-----------------------\")\n",
        "print(y_test.describe())"
      ],
      "execution_count": 33,
      "outputs": [
        {
          "output_type": "stream",
          "name": "stdout",
          "text": [
            "Partición de test\n",
            "-----------------------\n",
            "count       346.000000\n",
            "mean     214084.395954\n",
            "std      104689.155889\n",
            "min        5000.000000\n",
            "25%      139000.000000\n",
            "50%      180750.000000\n",
            "75%      271750.000000\n",
            "max      670000.000000\n",
            "Name: precio, dtype: float64\n"
          ]
        }
      ]
    },
    {
      "cell_type": "markdown",
      "metadata": {
        "id": "454_oVkuX753"
      },
      "source": [
        "##PREPROCESO AL MODELO\n",
        "\n",
        "El preprocesado engloba todas aquellas transformaciones realizadas sobre los datos con el objetivo que puedan ser interpretados por el algoritmo de machine learning lo más eficientemente posible.\n",
        "\n",
        "Todo preprocesado de datos debe aprenderse con las observaciones de entrenamiento y luego aplicarse al conjunto de entrenamiento y al de test. Esto es muy importante para no violar la condición de que ninguna información procedente de las observaciones de test participe o influya en el ajuste del modelo. Este principio debe aplicarse también si se emplea validación cruzada (ver más adelante). En tal caso, el preprocesado debe realizarse dentro de cada iteración de validación, para que las estimaciones que se hacen con cada partición de validación no contengan información del resto de particiones. \n",
        "\n",
        "\n",
        "Aunque no es posible crear un único listado, a continuación se resumen algunos de los pasos de preprocesado que más se suelen necesitar."
      ]
    },
    {
      "cell_type": "code",
      "metadata": {
        "id": "_kt8q6nAX679"
      },
      "source": [
        ""
      ],
      "execution_count": 33,
      "outputs": []
    },
    {
      "cell_type": "markdown",
      "metadata": {
        "id": "A5KPla44YrMs"
      },
      "source": [
        "La gran mayoría de algoritmos **no aceptan observaciones incompletas**, por lo que, cuando el set de datos contiene valores ausentes, se puede:\n",
        "\n",
        "\n",
        "*   Eliminar aquellas observaciones que estén incompletas.\n",
        "\n",
        "*   Eliminar aquellas variables que contengan valores ausentes.\n",
        "\n",
        "*   Tratar de estimar los valores ausentes empleando el resto de información disponible (imputación).\n",
        "\n",
        "Las primeras dos opciones, aunque sencillas, suponen perder información. La eliminación de observaciones solo puede aplicarse cuando se dispone de muchas y el porcentaje de registros incompletos es muy bajo. En el caso de **eliminar** variables, el impacto dependerá de cuánta información aporten dichas variables al modelo. Cuando se emplea la imputación, es muy importante tener en cuenta el riesgo que se corre al introducir valores en predictores que tengan mucha influencia en el modelo. "
      ]
    },
    {
      "cell_type": "code",
      "metadata": {
        "id": "DcwX-y_RY-bE"
      },
      "source": [
        ""
      ],
      "execution_count": 33,
      "outputs": []
    },
    {
      "cell_type": "markdown",
      "metadata": {
        "id": "B7va7ffRZEMH"
      },
      "source": [
        "El módulo **sklearn.impute** incorpora varios métodos de imputación distintos:\n",
        "\n",
        "\n",
        "*   **SimpleImputer**: permite imputaciones empleando un valor constante o un estadístico (media, mediana, valor más frecuente) de la misma columna en la que se encuentra el valor ausente.\n",
        "\n",
        "*   **IterativeImputer**: permite imputar el valor de una columna teniendo en cuenta el resto de columnas. En concreto, se trata de un proceso iterativo en el que, en cada iteración, una de las variables se emplea como variable respuesta y el resto como predictores. Una vez obtenido el modelo, se emplea para predecir las posiciones vacías de esa variable. Este proceso se lleva a cabo con cada variable y se repite el ciclo max_iter veces para ganar estabilidad. La implementación de sklearn.impute.IterativeImputer permite que se emplee casi cualquiera de sus algoritmos para crear los modelos de imputación (KNN, RandomForest, GradientBoosting...).\n",
        "\n",
        "*   **KNNImputer**: es un caso concreto de IterativeImputer en el que se emplea k-Nearest Neighbors como algoritmo de imputación.\n",
        "\n",
        "\n",
        "\n",
        "A pesar de ser un método muy utilizado, imputar utilizando KNN presenta dos problemas: \n",
        "\n",
        "1. su coste computacional elevado hace que solo sea aplicable en conjuntos de datos de tamaño pequeño o moderado. \n",
        "\n",
        "2. Si hay variables categóricas, debido a la dificultad de medir \"distancias\" en este contexto, puede dar lugar a resultados poco realistas.\n",
        "\n",
        "Por estas dos razones, es más recomendable utilizar un modelo tipo Random Forest **IterativeImputer(predictor = RandomForestRegressor()).**\n",
        "\n",
        "Con el argumento **add_indicator=True** se crea automáticamente una nueva columna en la que se indica con el valor 1 qué valores han sido imputados. Esto puede ser útil tanto para identificar las observaciones en las que se ha realizado alguna imputación como para utilizarla como un predictor más en el modelo."
      ]
    },
    {
      "cell_type": "markdown",
      "metadata": {
        "id": "nITXw-lOZ0WQ"
      },
      "source": [
        "###Exclusión de variables con varianza próxima a cero\n",
        "\n",
        "\n",
        "**No se deben incluir en el modelo predictores que contengan un único valor** (cero-varianza) ya que no aportan información.\n",
        "\n",
        " Tampoco es conveniente incluir predictores que tengan una varianza próxima a cero, es decir, predictores que toman solo unos pocos valores, de los cuales, algunos aparecen con muy poca frecuencia. \n",
        "\n",
        "El problema con estos últimos es que pueden convertirse en predictores con varianza cero cuando se dividen las observaciones por validación cruzada o bootstrap."
      ]
    },
    {
      "cell_type": "markdown",
      "metadata": {
        "id": "rEL_u7AOZ12N"
      },
      "source": [
        "###Estandarización y escalado de variables numéricas\n",
        "\n",
        "Cuando los predictores son numéricos, **la escala** en la que se miden, así como la magnitud de su varianza pueden **influir** en gran medida en el modelo. Muchos algoritmos de machine learning (SVM, redes neuronales, lasso...) son sensibles a esto, de forma que, si no se igualan de alguna forma los predictores, aquellos que se midan en una escala mayor o que tengan más varianza **dominarán el modelo** aunque no sean los que más relación tienen con la variable respuesta. \n",
        "\n",
        "Existen principalmente 2 estrategias para evitarlo:\n",
        "1. Centrado: consiste en restarle a cada valor la media del predictor al que pertenece. Si los datos están almacenados en un dataframe, el centrado se consigue restándole a cada valor la media de la columna en la que se encuentra. Como resultado de esta transformación, todos los predictores pasan a tener una media de cero, es decir, los valores se centran en torno al origen. StandardScaler(with_std=False)\n",
        "2. Normalización (estandarización): consiste en transformar los datos de forma que todos los predictores estén aproximadamente en la misma escala. Hay dos formas de lograrlo: \n",
        "  1. Normalización Z-score (StandardScaler): dividir cada predictor entre su desviación típica después de haber sido centrado, de esta forma, los datos pasan a tener una distribución normal.\n",
        "\n",
        "  $$z=\\frac{x−\\mu}{\\sigma}$$\n",
        " \n",
        "  2. Estandarización max-min (MinMaxScaler): transformar los datos de forma que estén dentro del rango [0, 1].\n",
        "\n",
        "$$X_{norm}=\\frac{X−X_{min}}{X_{max}−X_{min}}$$\n",
        " \n",
        "Nunca se deben estandarizar las variables después de ser binarizadas (ver a continuación)."
      ]
    },
    {
      "cell_type": "markdown",
      "metadata": {
        "id": "TW7pYXKZa9CY"
      },
      "source": [
        "###Binarización de las variables cualitativas\n",
        "La binarización (one-hot-encoding) consiste en **crear nuevas variables** *dummy* con cada uno de los niveles de las variables cualitativas.\n",
        "\n",
        " Por ejemplo, una variable llamada color que contenga los niveles rojo, verde y azul, se convertirá en tres nuevas variables (color_rojo, color_verde, color_azul), todas con el valor 0 excepto la que coincide con la observación, que toma el valor 1.\n",
        "\n",
        "Por defecto, la clase OneHotEncoder binariza todas las variables, por lo que hay que aplicarlo únicamente a las variables cualitativas (ver como hacerlo en el apartado ColumnTransformer). Con el argumento drop=‘first’ se elimina uno de los niveles para evitar redundancias.\n",
        "\n",
        "En ciertos escenarios puede ocurrir que, en los datos de test, aparezca un nuevo nivel que no estaba en los datos de entrenamiento. Si no se conoce de antemano cuáles son todos los posibles niveles, se puede evitar errores en las predicciones indicando OneHotEncoder(handle_unknown='ignore').\n",
        "\n",
        "La forma de preprocesar los datos dentro del ecosistema scikit-learn es empleando los ColumnTransformer y pipeline. Además de las ya mencionadas, pueden encontrarse muchas más transformaciones de preprocesado en el módulo sklearn.preprocessing.\n"
      ]
    },
    {
      "cell_type": "markdown",
      "metadata": {
        "id": "OrAh8c4mbr7o"
      },
      "source": [
        "###Pipeline y ColumnTransformer\n",
        "Las clases **ColumnTransformer** y **make_column_transformer** del módulo *sklearn.compose* permiten combinar múltiples transformaciones de preprocesado, especificando a qué columnas se aplica cada una. Como todo transformer, tiene un método de entrenamiento (fit) y otro de transformación (transform) . Esto permite que el aprendizaje de las transformaciones se haga únicamente con observaciones de entrenamiento, y se puedan aplicar después a cualquier conjunto de datos. La idea detrás de este módulo es la siguiente:\n",
        "\n",
        "1. Definir todas las transformaciones (escalado, selección, filtrado...) que se desea aplicar y a qué columnas ColumnTransformer(). La selección de columnas puede hacerse por: nombre, índice, máscara booleana, slice, patrón regex, por tipo de columna o con las funciones de selección *make_column_selector*.\n",
        "\n",
        "2. Aprender los parámetros necesarios para dichas transformaciones con las observaciones de entrenamiento .fit().\n",
        "\n",
        "3. Aplicar las transformaciones aprendidas a cualquier conjunto de datos .transform()."
      ]
    },
    {
      "cell_type": "code",
      "metadata": {
        "id": "aIcH9uJU1V22"
      },
      "source": [
        "# Selección de las variables por típo\n",
        "# ==============================================================================\n",
        "from sklearn.compose import ColumnTransformer\n",
        "from sklearn.preprocessing import OneHotEncoder\n",
        "from sklearn.preprocessing import StandardScaler\n",
        "from sklearn.compose import make_column_selector\n",
        "\n",
        "\n",
        " "
      ],
      "execution_count": 34,
      "outputs": []
    },
    {
      "cell_type": "markdown",
      "metadata": {
        "id": "njMM3-8WBW1e"
      },
      "source": [
        "Se estandarizan las columnas numéricas y se hace one-hot-encoding de las \n",
        "columnas cualitativas. \n",
        "\n",
        "Para mantener las columnas a las que no se les aplica \n",
        "ninguna transformación se tiene que indicar **remainder='passthrough'**."
      ]
    },
    {
      "cell_type": "code",
      "metadata": {
        "id": "iCUlDH7EBPt5"
      },
      "source": [
        "#definimos las columnas numericas en una variable\n",
        "numeric_cols = X_train.select_dtypes(include=['float64', 'int']).columns.to_list()\n",
        "\n",
        "#definimos las columnas categoricas en otra variable\n",
        "cat_cols = X_train.select_dtypes(include=['object', 'category']).columns.to_list()"
      ],
      "execution_count": 35,
      "outputs": []
    },
    {
      "cell_type": "code",
      "metadata": {
        "id": "1Ncn5hNYBUJp"
      },
      "source": [
        "#preprocesamiento de las columnas.\n",
        "#se normaliza la escala de las columnas numericas con StandardScaler() \n",
        "#y las columnas categoricas se dividen en columnas de valores binarios 0 y 1 \n",
        "#usando OneHotEncoder(). \n",
        "\n",
        "#al resto de columnas no se les aplica ninguna transformacion\n",
        "preprocessor = ColumnTransformer(\n",
        "                   [('scale', StandardScaler(), numeric_cols),\n",
        "                    ('onehot', OneHotEncoder(handle_unknown='ignore'), cat_cols)],\n",
        "                remainder='passthrough')"
      ],
      "execution_count": 36,
      "outputs": []
    },
    {
      "cell_type": "markdown",
      "metadata": {
        "id": "mO-Z71ZlDuz5"
      },
      "source": [
        "definimos los conjuntos de variables independientes ya procesados para que nuestro modelo tenga el mejor comportamiento y sea el optimo. "
      ]
    },
    {
      "cell_type": "code",
      "metadata": {
        "id": "CEEDcoDM-N1Z"
      },
      "source": [
        "X_train_prep = preprocessor.fit_transform(X_train)\n",
        "X_test_prep  = preprocessor.transform(X_test)"
      ],
      "execution_count": 37,
      "outputs": []
    },
    {
      "cell_type": "markdown",
      "metadata": {
        "id": "ev58TOtmE1N7"
      },
      "source": [
        "El resultado devuelto por ColumnTransformer es un numpy array, por lo que se pierden los nombres de las columnas. Suele ser interesante poder inspeccionar cómo queda el set de datos tras el preprocesado en formato dataframe. Por defecto, OneHotEncoder ordena las nuevas columnas de izquierda a derecha por orden alfabético."
      ]
    },
    {
      "cell_type": "code",
      "metadata": {
        "colab": {
          "base_uri": "https://localhost:8080/"
        },
        "id": "sAgD3_wcE2d_",
        "outputId": "06edf1a8-cab0-4e6e-83b6-67c010c606d8"
      },
      "source": [
        "# Convertir el output en dataframe y añadir el nombre de las columnas\n",
        "# ==============================================================================\n",
        "encoded_cat = preprocessor.named_transformers_['onehot'].get_feature_names(cat_cols)\n",
        "labels = np.concatenate([numeric_cols, encoded_cat])\n",
        "datos_train_prep = preprocessor.transform(X_train)\n",
        "datos_train_prep = pd.DataFrame(datos_train_prep, columns=labels)\n",
        "datos_train_prep.info()"
      ],
      "execution_count": 38,
      "outputs": [
        {
          "output_type": "stream",
          "name": "stdout",
          "text": [
            "<class 'pandas.core.frame.DataFrame'>\n",
            "RangeIndex: 1382 entries, 0 to 1381\n",
            "Data columns (total 26 columns):\n",
            " #   Column                       Non-Null Count  Dtype  \n",
            "---  ------                       --------------  -----  \n",
            " 0   metros_totales               1382 non-null   float64\n",
            " 1   antiguedad                   1382 non-null   float64\n",
            " 2   precio_terreno               1382 non-null   float64\n",
            " 3   metros_habitables            1382 non-null   float64\n",
            " 4   universitarios               1382 non-null   float64\n",
            " 5   dormitorios                  1382 non-null   float64\n",
            " 6   banyos                       1382 non-null   float64\n",
            " 7   habitaciones                 1382 non-null   float64\n",
            " 8   chimenea_0                   1382 non-null   float64\n",
            " 9   chimenea_1                   1382 non-null   float64\n",
            " 10  chimenea_2_mas               1382 non-null   float64\n",
            " 11  calefaccion_electric         1382 non-null   float64\n",
            " 12  calefaccion_hot air          1382 non-null   float64\n",
            " 13  calefaccion_hot water/steam  1382 non-null   float64\n",
            " 14  consumo_calefacion_electric  1382 non-null   float64\n",
            " 15  consumo_calefacion_gas       1382 non-null   float64\n",
            " 16  consumo_calefacion_oil       1382 non-null   float64\n",
            " 17  desague_none                 1382 non-null   float64\n",
            " 18  desague_public/commercial    1382 non-null   float64\n",
            " 19  desague_septic               1382 non-null   float64\n",
            " 20  vistas_lago_No               1382 non-null   float64\n",
            " 21  vistas_lago_Yes              1382 non-null   float64\n",
            " 22  nueva_construccion_No        1382 non-null   float64\n",
            " 23  nueva_construccion_Yes       1382 non-null   float64\n",
            " 24  aire_acondicionado_No        1382 non-null   float64\n",
            " 25  aire_acondicionado_Yes       1382 non-null   float64\n",
            "dtypes: float64(26)\n",
            "memory usage: 280.8 KB\n"
          ]
        }
      ]
    },
    {
      "cell_type": "markdown",
      "metadata": {
        "id": "FiIMfsn1FQLx"
      },
      "source": [
        "**ColumnTransformer** aplica las operaciones de forma paralela, no de forma secuencial, esto significa que no permite aplicar más de una transformación a una misma columna. En el caso de que sea necesario hacerlo, hay que recurrir a los pipeline, que también agrupan operaciones pero las ejecutan de forma secuencial, de forma que la salida de una operación es la entrada de la siguiente. **Si se quieren aplicar varias transformaciones de preprocesado sobre una misma columna, es necesario agruparlas primero en un pipeline** \n",
        "\n",
        "\n",
        "En el siguiente ejemplo se combinan las transformaciones:\n",
        "\n",
        "1. **Columnas numéricas:** se imputan los valores ausentes con la mediana y a continuación se estandarizan.\n",
        "\n",
        "2. **Columnas categóricas (cualitativas):** se imputan los valores ausentes con el valor más frecuente y a continuación se aplica one hot encoding."
      ]
    },
    {
      "cell_type": "code",
      "metadata": {
        "id": "cTUAqkrOGQVL"
      },
      "source": [
        "from sklearn.pipeline import Pipeline\n",
        "from sklearn.compose import ColumnTransformer\n",
        "from sklearn.impute import SimpleImputer\n",
        "from sklearn.preprocessing import OneHotEncoder\n",
        "from sklearn.preprocessing import StandardScaler\n",
        "from sklearn.compose import make_column_selector"
      ],
      "execution_count": 39,
      "outputs": []
    },
    {
      "cell_type": "code",
      "metadata": {
        "id": "LgTsYwBWF3D-"
      },
      "source": [
        "# Selección de las variables por típo\n",
        "# ==============================================================================\n",
        "\n",
        "numeric_cols = X_train.select_dtypes(include=['float64', 'int']).columns.to_list()\n",
        "cat_cols = X_train.select_dtypes(include=['object', 'category']).columns.to_list()\n",
        "\n",
        "# Transformaciones para las variables numéricas\n",
        "#aplicamos dos transformaciones: StandarScaler() y SimpleImputer()\n",
        "numeric_transformer = Pipeline(\n",
        "                        steps=[\n",
        "                            ('imputer', SimpleImputer(strategy='median')),\n",
        "                            ('scaler', StandardScaler())\n",
        "                        ]\n",
        "                      )\n",
        "\n",
        "\n",
        "# Transformaciones para las variables categóricas\n",
        "#aplicamos dos transformaciones: OneHotEncoder() y SimpleImputer()\n",
        "categorical_transformer = Pipeline(\n",
        "                            steps=[\n",
        "                                ('imputer', SimpleImputer(strategy='most_frequent')),\n",
        "                                ('onehot', OneHotEncoder(handle_unknown='ignore'))\n",
        "                            ]\n",
        "                          )\n",
        "\n",
        "preprocessor = ColumnTransformer(\n",
        "                    transformers=[\n",
        "                        ('numeric', numeric_transformer, numeric_cols),\n",
        "                        ('cat', categorical_transformer, cat_cols)\n",
        "                    ],\n",
        "                    remainder='passthrough'\n",
        "                )"
      ],
      "execution_count": 40,
      "outputs": []
    },
    {
      "cell_type": "code",
      "metadata": {
        "id": "2tuHbf3HGFwY"
      },
      "source": [
        "X_train_prep = preprocessor.fit_transform(X_train)\n",
        "X_test_prep  = preprocessor.transform(X_test)"
      ],
      "execution_count": 41,
      "outputs": []
    },
    {
      "cell_type": "code",
      "metadata": {
        "colab": {
          "base_uri": "https://localhost:8080/"
        },
        "id": "-2JZ10xoGILD",
        "outputId": "d83cd4cc-359b-466b-a064-2261cd0f5637"
      },
      "source": [
        "# Convertir el output en dataframe y añadir el nombre de las columnas\n",
        "# ==============================================================================\n",
        "\n",
        "encoded_cat = preprocessor.named_transformers_['cat']['onehot']\\\n",
        "              .get_feature_names(cat_cols)\n",
        "labels = np.concatenate([numeric_cols, encoded_cat])\n",
        "datos_train_prep = preprocessor.transform(X_train)\n",
        "datos_train_prep = pd.DataFrame(datos_train_prep, columns=labels)\n",
        "datos_train_prep.info()"
      ],
      "execution_count": 42,
      "outputs": [
        {
          "output_type": "stream",
          "name": "stdout",
          "text": [
            "<class 'pandas.core.frame.DataFrame'>\n",
            "RangeIndex: 1382 entries, 0 to 1381\n",
            "Data columns (total 26 columns):\n",
            " #   Column                       Non-Null Count  Dtype  \n",
            "---  ------                       --------------  -----  \n",
            " 0   metros_totales               1382 non-null   float64\n",
            " 1   antiguedad                   1382 non-null   float64\n",
            " 2   precio_terreno               1382 non-null   float64\n",
            " 3   metros_habitables            1382 non-null   float64\n",
            " 4   universitarios               1382 non-null   float64\n",
            " 5   dormitorios                  1382 non-null   float64\n",
            " 6   banyos                       1382 non-null   float64\n",
            " 7   habitaciones                 1382 non-null   float64\n",
            " 8   chimenea_0                   1382 non-null   float64\n",
            " 9   chimenea_1                   1382 non-null   float64\n",
            " 10  chimenea_2_mas               1382 non-null   float64\n",
            " 11  calefaccion_electric         1382 non-null   float64\n",
            " 12  calefaccion_hot air          1382 non-null   float64\n",
            " 13  calefaccion_hot water/steam  1382 non-null   float64\n",
            " 14  consumo_calefacion_electric  1382 non-null   float64\n",
            " 15  consumo_calefacion_gas       1382 non-null   float64\n",
            " 16  consumo_calefacion_oil       1382 non-null   float64\n",
            " 17  desague_none                 1382 non-null   float64\n",
            " 18  desague_public/commercial    1382 non-null   float64\n",
            " 19  desague_septic               1382 non-null   float64\n",
            " 20  vistas_lago_No               1382 non-null   float64\n",
            " 21  vistas_lago_Yes              1382 non-null   float64\n",
            " 22  nueva_construccion_No        1382 non-null   float64\n",
            " 23  nueva_construccion_Yes       1382 non-null   float64\n",
            " 24  aire_acondicionado_No        1382 non-null   float64\n",
            " 25  aire_acondicionado_Yes       1382 non-null   float64\n",
            "dtypes: float64(26)\n",
            "memory usage: 280.8 KB\n"
          ]
        }
      ]
    },
    {
      "cell_type": "code",
      "metadata": {
        "id": "NQO0Lpp3HsC8"
      },
      "source": [
        "#from sklearn import set_config\n",
        "#set_config(display='diagram')\n",
        "\n",
        "#preprocessor"
      ],
      "execution_count": 43,
      "outputs": []
    },
    {
      "cell_type": "markdown",
      "metadata": {
        "id": "t0YIGq-OI65V"
      },
      "source": [
        "##CREAR UN MODELO \n",
        "\n",
        "El siguiente paso tras definir los datos de entrenamiento, es seleccionar el algoritmo que se va a emplear. En *scikit-learn*, esto se hace mediante la creación de un objeto estimator. En concreto, este objeto almacena el nombre del algoritmo, sus parámetros e hiperparámetros y contiene los métodos fit(X, y) y predict(T) que le permiten aprender de los datos y predecir nuevas observaciones. El siguiente listado contiene todos los algoritmos implementados en scikit-learn."
      ]
    },
    {
      "cell_type": "markdown",
      "metadata": {
        "id": "J8P7Y517JIwG"
      },
      "source": [
        "###ENTRENAMIENTO\n",
        "\n",
        "Se ajusta un primer modelo de regresión lineal con regularización ridge para predecir el precio de la vivienda en función de todos los predictores disponibles. Todos los argumentos de sklearn.linear_model.Ridge se dejan por defecto.\n",
        "\n",
        "Es importante tener en cuenta que, cuando un modelo de regresión lineal incluye regularización en los coeficientes (ridge, lasso, elasticnet), deben estandarizarse los predictores. Para asegurar que el preprocesado se realiza únicamente con los datos de entrenamiento, se combinan las transformaciones y el entrenamiento en un mismo pipeline."
      ]
    },
    {
      "cell_type": "markdown",
      "metadata": {
        "id": "7J-35g7iAs6F"
      },
      "source": [
        ""
      ]
    },
    {
      "cell_type": "code",
      "metadata": {
        "id": "7N6ni6GTIAo3"
      },
      "source": [
        "from sklearn.linear_model import Ridge\n",
        "\n",
        "# Preprocesado\n",
        "# ==============================================================================\n",
        "\n",
        "# Identificación de columnas numéricas y categóricas\n",
        "numeric_cols = X_train.select_dtypes(include=['float64', 'int']).columns.to_list()\n",
        "cat_cols = X_train.select_dtypes(include=['object', 'category']).columns.to_list()\n",
        "\n",
        "\n",
        "# Transformaciones para las variables numéricas\n",
        "numeric_transformer = Pipeline(\n",
        "                        steps=[('scaler', StandardScaler())]\n",
        "                      )\n",
        "\n",
        "# Transformaciones para las variables categóricas\n",
        "categorical_transformer = Pipeline(\n",
        "                            steps=[('onehot', OneHotEncoder(handle_unknown='ignore'))]\n",
        "                          )\n",
        "\n",
        "preprocessor = ColumnTransformer(\n",
        "                    transformers=[\n",
        "                        ('numeric', numeric_transformer, numeric_cols),\n",
        "                        ('cat', categorical_transformer, cat_cols)\n",
        "                    ],\n",
        "                    remainder='passthrough'\n",
        "                )"
      ],
      "execution_count": 44,
      "outputs": []
    },
    {
      "cell_type": "code",
      "metadata": {
        "id": "3swEZUR8LfH6"
      },
      "source": [
        "# Se combinan los pasos de preprocesado y el modelo en un mismo pipeline\n",
        "pipe = Pipeline([('preprocessing', preprocessor),\n",
        "                 ('modelo', Ridge())])"
      ],
      "execution_count": 45,
      "outputs": []
    },
    {
      "cell_type": "code",
      "metadata": {
        "id": "ESe6qvGOLiI3"
      },
      "source": [
        "# Train\n",
        "# ==============================================================================\n",
        "# Se asigna el resultado a _ para que no se imprima por pantalla\n",
        "_ = pipe.fit(X=X_train, y=y_train)"
      ],
      "execution_count": 46,
      "outputs": []
    },
    {
      "cell_type": "markdown",
      "metadata": {
        "id": "4hEG9jpuJrCc"
      },
      "source": [
        "###VALIDACIÓN\n",
        "\n",
        "La finalidad última de un modelo es predecir la variable respuesta en observaciones futuras o en observaciones que el modelo no ha \"visto\" antes. El error mostrado por defecto tras entrenar un modelo suele ser el error de entrenamiento, **el error que comete el modelo al predecir las observaciones que ya ha \"visto\"**. Si bien estos errores son útiles para entender cómo está aprendiendo el modelo (estudio de residuos), no es una estimación realista de cómo se comporta el modelo ante nuevas observaciones (el error de entrenamiento suele ser demasiado optimista). Para conseguir una estimación más certera, y antes de recurrir al conjunto de test, se pueden **emplear estrategias de validación basadas en resampling**. Scikit-learn incorpora en el módulo sklearn.model_selection varias estrategias de validación.\n",
        "\n",
        "**Todas ellas reciben como primer argumento un estimator que puede ser directamente un modelo o un pipeline.**\n",
        "\n",
        "Las métricas de error de regresión se devuelven siempre en negativo de forma que, cuanto más próximo a 0 sea el valor, mejor el ajuste. Esto es así para que, los procesos de optimización siempre sean de maximización.\n",
        "\n",
        "La forma más sencilla es emplear la función cross_val_score(), que utiliza por defecto KFold."
      ]
    },
    {
      "cell_type": "markdown",
      "metadata": {
        "id": "7ARyRhXu3QJZ"
      },
      "source": [
        "####Validación cruzada con cross_val_score()"
      ]
    },
    {
      "cell_type": "code",
      "metadata": {
        "id": "P4Ty1p8NJt2e",
        "colab": {
          "base_uri": "https://localhost:8080/"
        },
        "outputId": "f560b75c-fa8a-4032-ea6f-6923b09e0f01"
      },
      "source": [
        "# Validación cruzada\n",
        "# ==============================================================================\n",
        "from sklearn.model_selection import cross_val_score\n",
        "\n",
        "cv_scores = cross_val_score(\n",
        "                estimator = pipe,\n",
        "                X         = X_train,\n",
        "                y         = y_train,\n",
        "                scoring   = 'neg_root_mean_squared_error',\n",
        "                cv        = 5\n",
        "             )\n",
        "\n",
        "print(f\"Métricas validación cruzada: {cv_scores}\")\n",
        "print(f\"Média métricas de validación cruzada: {cv_scores.mean()}\")"
      ],
      "execution_count": 47,
      "outputs": [
        {
          "output_type": "stream",
          "name": "stdout",
          "text": [
            "Métricas validación cruzada: [-53936.97817183 -53076.74364513 -62746.15219054 -65963.09754244\n",
            " -48929.66260476]\n",
            "Média métricas de validación cruzada: -56930.52683094099\n"
          ]
        }
      ]
    },
    {
      "cell_type": "markdown",
      "metadata": {
        "id": "LeyDSCe-J1ET"
      },
      "source": [
        "También es posible utilizar otras estrategias de validación cruzada (KFold, RepeatedKFold, LeaveOneOut, LeavePOut, ShuffleSplit) realizando previamente el reparto con las funciones auxiliares de sklearn.model_selection y pasando los índices al argumento cv.\n",
        "\n",
        "Cada método funciona internamente de forma distinta, pero todos ellos se basan en la idea: ajustar y evaluar el modelo de forma repetida, empleando cada vez distintos subconjuntos creados a partir de los datos de entrenamiento y obteniendo en cada repetición una estimación del error. **El promedio de todas las estimaciones tiende a converger en el valor real del error de test.**"
      ]
    },
    {
      "cell_type": "markdown",
      "metadata": {
        "id": "gX0q_6Ut3ecl"
      },
      "source": [
        "####validacion cruzada repetida con RepeatedKFold()"
      ]
    },
    {
      "cell_type": "code",
      "metadata": {
        "id": "LS2IY8nIKGHG",
        "colab": {
          "base_uri": "https://localhost:8080/"
        },
        "outputId": "94aa79d7-0883-42df-8b4b-49380685ee51"
      },
      "source": [
        "# Validación cruzada repetida\n",
        "# ==============================================================================\n",
        "from sklearn.model_selection import RepeatedKFold\n",
        "\n",
        "cv = RepeatedKFold(n_splits=5, n_repeats=5, random_state=123)\n",
        "cv_scores = cross_val_score(\n",
        "                estimator = pipe,\n",
        "                X         = X_train,\n",
        "                y         = y_train,\n",
        "                scoring   = 'neg_root_mean_squared_error',\n",
        "                cv        = cv\n",
        "             )\n",
        "\n",
        "print(f\"Métricas de validación cruzada: {cv_scores}\")\n",
        "print(\"\")\n",
        "print(f\"Média métricas de validación cruzada: {cv_scores.mean()}\")"
      ],
      "execution_count": 48,
      "outputs": [
        {
          "output_type": "stream",
          "name": "stdout",
          "text": [
            "Métricas de validación cruzada: [-66487.72274814 -56333.87119132 -48992.85039086 -55030.00923381\n",
            " -58790.48472729 -62651.67080028 -55779.2103529  -61820.5882113\n",
            " -57243.1819794  -48910.70385765 -50033.46929956 -51586.8240037\n",
            " -62478.2206031  -65111.86204296 -54900.98944223 -64220.39882006\n",
            " -53694.93490461 -64690.99877883 -51242.27642488 -52330.80605289\n",
            " -56777.05219272 -58644.60923875 -55573.25900549 -64350.25804164\n",
            " -50578.15339623]\n",
            "\n",
            "Média métricas de validación cruzada: -57130.176229624776\n"
          ]
        }
      ]
    },
    {
      "cell_type": "markdown",
      "metadata": {
        "id": "Az7bXJVp3Kj9"
      },
      "source": [
        "####Cross validate"
      ]
    },
    {
      "cell_type": "markdown",
      "metadata": {
        "id": "bdgGOEpi1xDk"
      },
      "source": [
        "La función **cross_validate()** es similar a cross_val_score() pero **permite estimar varias métricas a la vez**, tanto para test como para train, y devuelve los resultados en un diccionario."
      ]
    },
    {
      "cell_type": "code",
      "metadata": {
        "colab": {
          "base_uri": "https://localhost:8080/",
          "height": 514
        },
        "id": "tjVbDp9A1xeI",
        "outputId": "3b1c0d85-617c-488c-87b9-6adaf52abc19"
      },
      "source": [
        "# Validación cruzada repetida con múltiples métricas\n",
        "# ==============================================================================\n",
        "from sklearn.model_selection import cross_validate\n",
        "\n",
        "cv = RepeatedKFold(n_splits=3, n_repeats=5, random_state=123)\n",
        "cv_scores = cross_validate(\n",
        "                estimator = pipe,\n",
        "                X         = X_train,\n",
        "                y         = y_train,\n",
        "                scoring   = ('r2', 'neg_root_mean_squared_error'),\n",
        "                cv        = cv,\n",
        "                return_train_score = True\n",
        "            )\n",
        "\n",
        "# Se convierte el diccionario a dataframe para facilitar la visualización\n",
        "cv_scores = pd.DataFrame(cv_scores)\n",
        "cv_scores"
      ],
      "execution_count": 49,
      "outputs": [
        {
          "output_type": "execute_result",
          "data": {
            "text/html": [
              "<div>\n",
              "<style scoped>\n",
              "    .dataframe tbody tr th:only-of-type {\n",
              "        vertical-align: middle;\n",
              "    }\n",
              "\n",
              "    .dataframe tbody tr th {\n",
              "        vertical-align: top;\n",
              "    }\n",
              "\n",
              "    .dataframe thead th {\n",
              "        text-align: right;\n",
              "    }\n",
              "</style>\n",
              "<table border=\"1\" class=\"dataframe\">\n",
              "  <thead>\n",
              "    <tr style=\"text-align: right;\">\n",
              "      <th></th>\n",
              "      <th>fit_time</th>\n",
              "      <th>score_time</th>\n",
              "      <th>test_r2</th>\n",
              "      <th>train_r2</th>\n",
              "      <th>test_neg_root_mean_squared_error</th>\n",
              "      <th>train_neg_root_mean_squared_error</th>\n",
              "    </tr>\n",
              "  </thead>\n",
              "  <tbody>\n",
              "    <tr>\n",
              "      <th>0</th>\n",
              "      <td>0.020095</td>\n",
              "      <td>0.010919</td>\n",
              "      <td>0.632359</td>\n",
              "      <td>0.679758</td>\n",
              "      <td>-64605.636258</td>\n",
              "      <td>-51789.256510</td>\n",
              "    </tr>\n",
              "    <tr>\n",
              "      <th>1</th>\n",
              "      <td>0.019619</td>\n",
              "      <td>0.010473</td>\n",
              "      <td>0.718708</td>\n",
              "      <td>0.636812</td>\n",
              "      <td>-48322.428406</td>\n",
              "      <td>-59983.019196</td>\n",
              "    </tr>\n",
              "    <tr>\n",
              "      <th>2</th>\n",
              "      <td>0.019434</td>\n",
              "      <td>0.011014</td>\n",
              "      <td>0.595874</td>\n",
              "      <td>0.689939</td>\n",
              "      <td>-58434.926618</td>\n",
              "      <td>-55213.669996</td>\n",
              "    </tr>\n",
              "    <tr>\n",
              "      <th>3</th>\n",
              "      <td>0.019859</td>\n",
              "      <td>0.010717</td>\n",
              "      <td>0.672969</td>\n",
              "      <td>0.655316</td>\n",
              "      <td>-58179.173708</td>\n",
              "      <td>-55331.536238</td>\n",
              "    </tr>\n",
              "    <tr>\n",
              "      <th>4</th>\n",
              "      <td>0.019709</td>\n",
              "      <td>0.010736</td>\n",
              "      <td>0.615521</td>\n",
              "      <td>0.683390</td>\n",
              "      <td>-60148.310664</td>\n",
              "      <td>-54366.426683</td>\n",
              "    </tr>\n",
              "    <tr>\n",
              "      <th>5</th>\n",
              "      <td>0.021285</td>\n",
              "      <td>0.010779</td>\n",
              "      <td>0.650829</td>\n",
              "      <td>0.664771</td>\n",
              "      <td>-53812.579173</td>\n",
              "      <td>-57561.184588</td>\n",
              "    </tr>\n",
              "    <tr>\n",
              "      <th>6</th>\n",
              "      <td>0.019895</td>\n",
              "      <td>0.011130</td>\n",
              "      <td>0.698178</td>\n",
              "      <td>0.647441</td>\n",
              "      <td>-49813.241120</td>\n",
              "      <td>-59221.407345</td>\n",
              "    </tr>\n",
              "    <tr>\n",
              "      <th>7</th>\n",
              "      <td>0.021212</td>\n",
              "      <td>0.011562</td>\n",
              "      <td>0.646554</td>\n",
              "      <td>0.673016</td>\n",
              "      <td>-61749.477863</td>\n",
              "      <td>-53221.315710</td>\n",
              "    </tr>\n",
              "    <tr>\n",
              "      <th>8</th>\n",
              "      <td>0.020295</td>\n",
              "      <td>0.011148</td>\n",
              "      <td>0.615151</td>\n",
              "      <td>0.682999</td>\n",
              "      <td>-59192.994923</td>\n",
              "      <td>-54895.180113</td>\n",
              "    </tr>\n",
              "    <tr>\n",
              "      <th>9</th>\n",
              "      <td>0.019361</td>\n",
              "      <td>0.014763</td>\n",
              "      <td>0.645685</td>\n",
              "      <td>0.670425</td>\n",
              "      <td>-61061.033083</td>\n",
              "      <td>-53843.654748</td>\n",
              "    </tr>\n",
              "    <tr>\n",
              "      <th>10</th>\n",
              "      <td>0.019670</td>\n",
              "      <td>0.025260</td>\n",
              "      <td>0.564282</td>\n",
              "      <td>0.696123</td>\n",
              "      <td>-59084.326066</td>\n",
              "      <td>-55269.382399</td>\n",
              "    </tr>\n",
              "    <tr>\n",
              "      <th>11</th>\n",
              "      <td>0.020704</td>\n",
              "      <td>0.011714</td>\n",
              "      <td>0.709130</td>\n",
              "      <td>0.637747</td>\n",
              "      <td>-52788.788472</td>\n",
              "      <td>-57942.367392</td>\n",
              "    </tr>\n",
              "    <tr>\n",
              "      <th>12</th>\n",
              "      <td>0.020321</td>\n",
              "      <td>0.011517</td>\n",
              "      <td>0.663592</td>\n",
              "      <td>0.652572</td>\n",
              "      <td>-59372.918876</td>\n",
              "      <td>-55251.685765</td>\n",
              "    </tr>\n",
              "    <tr>\n",
              "      <th>13</th>\n",
              "      <td>0.019148</td>\n",
              "      <td>0.010441</td>\n",
              "      <td>0.637408</td>\n",
              "      <td>0.671598</td>\n",
              "      <td>-54925.502000</td>\n",
              "      <td>-57014.192113</td>\n",
              "    </tr>\n",
              "    <tr>\n",
              "      <th>14</th>\n",
              "      <td>0.019443</td>\n",
              "      <td>0.011539</td>\n",
              "      <td>0.624017</td>\n",
              "      <td>0.679811</td>\n",
              "      <td>-58863.107740</td>\n",
              "      <td>-54881.130021</td>\n",
              "    </tr>\n",
              "  </tbody>\n",
              "</table>\n",
              "</div>"
            ],
            "text/plain": [
              "    fit_time  ...  train_neg_root_mean_squared_error\n",
              "0   0.020095  ...                      -51789.256510\n",
              "1   0.019619  ...                      -59983.019196\n",
              "2   0.019434  ...                      -55213.669996\n",
              "3   0.019859  ...                      -55331.536238\n",
              "4   0.019709  ...                      -54366.426683\n",
              "5   0.021285  ...                      -57561.184588\n",
              "6   0.019895  ...                      -59221.407345\n",
              "7   0.021212  ...                      -53221.315710\n",
              "8   0.020295  ...                      -54895.180113\n",
              "9   0.019361  ...                      -53843.654748\n",
              "10  0.019670  ...                      -55269.382399\n",
              "11  0.020704  ...                      -57942.367392\n",
              "12  0.020321  ...                      -55251.685765\n",
              "13  0.019148  ...                      -57014.192113\n",
              "14  0.019443  ...                      -54881.130021\n",
              "\n",
              "[15 rows x 6 columns]"
            ]
          },
          "metadata": {},
          "execution_count": 49
        }
      ]
    },
    {
      "cell_type": "code",
      "metadata": {
        "colab": {
          "base_uri": "https://localhost:8080/",
          "height": 373
        },
        "id": "_X-kCaXu6HJY",
        "outputId": "ef03aecf-508e-452a-85a0-bdef6ce6e3d6"
      },
      "source": [
        "# Distribución del error de validación cruzada\n",
        "# ==============================================================================\n",
        "fig, axes = plt.subplots(nrows=2, ncols=1, figsize=(6, 5), sharex=True)\n",
        "\n",
        "#histograma del error por media cuadrada negativa del conjunto de prueba \"test\"\n",
        "sns.histplot(\n",
        "    data    = cv_scores['test_neg_root_mean_squared_error'],\n",
        "    stat    = \"count\",\n",
        "    kde     = True,\n",
        "    line_kws= {'linewidth': 2},\n",
        "    color   = \"firebrick\",\n",
        "    alpha   = 0.3,\n",
        "    ax      = axes[0]\n",
        ")\n",
        "\n",
        "axes[0].set_title('neg_root_mean_squared_error', fontsize = 7, fontweight = \"bold\")\n",
        "axes[0].tick_params(labelsize = 6)\n",
        "axes[0].set_xlabel(\"\")\n",
        "\n",
        "#boxplot del error por media cuadrada negativa del conjunto de prueba \"test\"\n",
        "\n",
        "sns.boxplot(\n",
        "    cv_scores['test_neg_root_mean_squared_error'],\n",
        "    ax      = axes[1]\n",
        ")\n",
        "axes[1].set_title('neg_root_mean_squared_error', fontsize = 7, fontweight = \"bold\")\n",
        "axes[1].tick_params(labelsize = 6)\n",
        "axes[1].set_xlabel(\"\")\n",
        "\n",
        "\n",
        "fig.tight_layout()\n",
        "plt.subplots_adjust(top=0.9)\n",
        "fig.suptitle('Distribución error de validación cruzada', fontsize = 10,\n",
        "             fontweight = \"bold\");"
      ],
      "execution_count": 50,
      "outputs": [
        {
          "output_type": "display_data",
          "data": {
            "image/png": "[encoded data removed]",
            "text/plain": [
              "<Figure size 432x360 with 2 Axes>"
            ]
          },
          "metadata": {}
        }
      ]
    },
    {
      "cell_type": "markdown",
      "metadata": {
        "id": "xZ8UmwiL7akb"
      },
      "source": [
        "####cross_val_predict()"
      ]
    },
    {
      "cell_type": "markdown",
      "metadata": {
        "id": "W7G3H1tH7Zl-"
      },
      "source": [
        "La función cross_val_predict, en lugar de devolver la métrica de cada partición, devuelve las **predicciones de cada partición.** Esto es útil para poder evaluar los residuos del modelo y diagnosticar su comportamiento. Si se emplea validación cruzada repetida o bootstrapping, una misma observación puede formar parte de la partición de validación varias veces."
      ]
    },
    {
      "cell_type": "code",
      "metadata": {
        "id": "WmDG6fv18hNJ"
      },
      "source": [
        "# Diagnóstico errores (residuos) de las predicciones de validación cruzada\n",
        "# ==============================================================================\n",
        "from sklearn.model_selection import cross_val_predict\n",
        "from sklearn.model_selection import KFold\n",
        "import statsmodels.api as sm\n"
      ],
      "execution_count": 51,
      "outputs": []
    },
    {
      "cell_type": "code",
      "metadata": {
        "id": "QMHj8-4G8hKn"
      },
      "source": [
        "# Validación cruzada\n",
        "# ==============================================================================\n",
        "cv = KFold(n_splits=5, random_state=123, shuffle=True)\n",
        "cv_prediccones = cross_val_predict(\n",
        "                    estimator = pipe,\n",
        "                    X         = X_train,\n",
        "                    y         = y_train,\n",
        "                    cv        = cv\n",
        "                  )\n"
      ],
      "execution_count": 52,
      "outputs": []
    },
    {
      "cell_type": "code",
      "metadata": {
        "colab": {
          "base_uri": "https://localhost:8080/",
          "height": 373
        },
        "id": "4U-j0YAS6G_5",
        "outputId": "d465136a-be55-488b-f8a8-6017ff012d71"
      },
      "source": [
        "# Gráficos\n",
        "# ==============================================================================\n",
        "fig, axes = plt.subplots(nrows=2, ncols=2, figsize=(9, 5))\n",
        "\n",
        "#grafico de dispersion de los valores dependientes de entrenamiento reales vs los valores predichos por cv \n",
        "axes[0, 0].scatter(y_train, cv_prediccones, edgecolors=(0, 0, 0), alpha = 0.4)\n",
        "axes[0, 0].plot([y_train.min(), y_train.max()], [y_train.min(), y_train.max()],\n",
        "                'k--', color = 'black', lw=2)\n",
        "axes[0, 0].set_title('Valor predicho vs valor real', fontsize = 10, fontweight = \"bold\")\n",
        "axes[0, 0].set_xlabel('Real')\n",
        "axes[0, 0].set_ylabel('Predicción')\n",
        "axes[0, 0].tick_params(labelsize = 7)\n",
        "\n",
        "#grafico de dispersion id del valor vs diferencia (o residuo) entre el valor predicho y el real.\n",
        "axes[0, 1].scatter(list(range(len(y_train))), y_train - cv_prediccones,\n",
        "                   edgecolors=(0, 0, 0), alpha = 0.4)\n",
        "axes[0, 1].axhline(y = 0, linestyle = '--', color = 'black', lw=2)\n",
        "axes[0, 1].set_title('Residuos del modelo', fontsize = 10, fontweight = \"bold\")\n",
        "axes[0, 1].set_xlabel('id')\n",
        "axes[0, 1].set_ylabel('Residuo')\n",
        "axes[0, 1].tick_params(labelsize = 7)\n",
        "\n",
        "#histograma de la distribucion del residuo encontrado entre el valor predicho y el real.\n",
        "sns.histplot(\n",
        "    data    = y_train - cv_prediccones,\n",
        "    stat    = \"density\",\n",
        "    kde     = True,\n",
        "    line_kws= {'linewidth': 1},\n",
        "    color   = \"firebrick\",\n",
        "    alpha   = 0.3,\n",
        "    ax      = axes[1, 0]\n",
        ")\n",
        "\n",
        "axes[1, 0].set_title('Distribución residuos del modelo', fontsize = 10,\n",
        "                     fontweight = \"bold\")\n",
        "axes[1, 0].set_xlabel(\"Residuo\")\n",
        "axes[1, 0].tick_params(labelsize = 7)\n",
        "\n",
        "#grafica de cuantiles predichos vs cuantiles reales\n",
        "sm.qqplot(\n",
        "    y_train - cv_prediccones,\n",
        "    fit   = True,\n",
        "    line  = 'q',\n",
        "    ax    = axes[1, 1], \n",
        "    color = 'firebrick',\n",
        "    alpha = 0.4,\n",
        "    lw    = 2\n",
        ")\n",
        "axes[1, 1].set_title('Q-Q residuos del modelo', fontsize = 10, fontweight = \"bold\")\n",
        "axes[1, 1].tick_params(labelsize = 7)\n",
        "\n",
        "fig.tight_layout()\n",
        "plt.subplots_adjust(top=0.9)\n",
        "fig.suptitle('Diagnóstico residuos', fontsize = 12, fontweight = \"bold\");"
      ],
      "execution_count": 53,
      "outputs": [
        {
          "output_type": "display_data",
          "data": {
            "image/png": "[encoded data removed]",
            "text/plain": [
              "<Figure size 648x360 with 4 Axes>"
            ]
          },
          "metadata": {}
        }
      ]
    },
    {
      "cell_type": "markdown",
      "metadata": {
        "id": "49pHHjqO-xIB"
      },
      "source": [
        "#### Validación cruzada repetida paralelizada (multicore)\n"
      ]
    },
    {
      "cell_type": "markdown",
      "metadata": {
        "id": "fNAA0u_E-w-D"
      },
      "source": [
        "A efectos prácticos, cuando se aplican métodos de resampling para validar un modelo hay que tener en cuenta dos cosas: el coste computacional que implica ajustar múltiples veces un modelo, cada vez con un subconjunto de datos distinto, y la reproducibilidad en la creación de las particiones. Las funciones cross_val_score() y cross_val_predict() ***permiten paralelizar el proceso mediante el argumento*** **n_jobs**."
      ]
    },
    {
      "cell_type": "code",
      "metadata": {
        "colab": {
          "base_uri": "https://localhost:8080/"
        },
        "id": "vx_fHcVL6Gys",
        "outputId": "c339dd11-9077-4cb8-97b1-16342a29993b"
      },
      "source": [
        "# Validación cruzada repetida paralelizada (multicore)\n",
        "# ==============================================================================\n",
        "from sklearn.model_selection import RepeatedKFold\n",
        "\n",
        "cv = RepeatedKFold(n_splits=10, n_repeats=5, random_state=123)\n",
        "cv_scores = cross_val_score(\n",
        "                estimator = pipe,\n",
        "                X         = X_train,\n",
        "                y         = y_train,\n",
        "                scoring   = 'neg_root_mean_squared_error',\n",
        "                cv        = cv,\n",
        "                n_jobs    = -1 # todos los cores disponibles\n",
        "             )\n",
        "\n",
        "print(f\"Média métricas de validación cruzada: {cv_scores.mean()}\")"
      ],
      "execution_count": 54,
      "outputs": [
        {
          "output_type": "stream",
          "name": "stdout",
          "text": [
            "Média métricas de validación cruzada: -56735.77500472445\n"
          ]
        }
      ]
    },
    {
      "cell_type": "markdown",
      "metadata": {
        "id": "tKwKq3QnAYJ_"
      },
      "source": [
        "El *root_mean_squared_error* promedio estimado mediante validación cruzada para el modelo ridge es de 56735. Este valor será contrastado más adelante cuando se calcule el error del modelo con el conjunto de test."
      ]
    },
    {
      "cell_type": "markdown",
      "metadata": {
        "id": "ZATo6GBTBEzD"
      },
      "source": [
        "###PREDICCIÓN"
      ]
    },
    {
      "cell_type": "markdown",
      "metadata": {
        "id": "3WT9oXbEBL_Y"
      },
      "source": [
        "Una vez que el modelo ha sido entrenado, bien empleando directamente un *estimator* o un *pipeline*, con el método **.predict()** se pueden predecir nuevas observaciones. Si se emplea un pipeline, se aplican automáticamente las transformaciones aprendidas durante el entrenamiento."
      ]
    },
    {
      "cell_type": "code",
      "metadata": {
        "id": "aZjiKCVgBFCO"
      },
      "source": [
        "predicciones = pipe.predict(X_test)"
      ],
      "execution_count": 55,
      "outputs": []
    },
    {
      "cell_type": "code",
      "metadata": {
        "colab": {
          "base_uri": "https://localhost:8080/",
          "height": 204
        },
        "id": "UguNaWihBUuW",
        "outputId": "c73d6fd6-0a47-40f1-83b5-32fc440bf344"
      },
      "source": [
        "# Se crea un dataframe con las predicciones y el valor real\n",
        "df_predicciones = pd.DataFrame({'precio' : y_test, 'prediccion' : predicciones})\n",
        "df_predicciones.head()"
      ],
      "execution_count": 56,
      "outputs": [
        {
          "output_type": "execute_result",
          "data": {
            "text/html": [
              "<div>\n",
              "<style scoped>\n",
              "    .dataframe tbody tr th:only-of-type {\n",
              "        vertical-align: middle;\n",
              "    }\n",
              "\n",
              "    .dataframe tbody tr th {\n",
              "        vertical-align: top;\n",
              "    }\n",
              "\n",
              "    .dataframe thead th {\n",
              "        text-align: right;\n",
              "    }\n",
              "</style>\n",
              "<table border=\"1\" class=\"dataframe\">\n",
              "  <thead>\n",
              "    <tr style=\"text-align: right;\">\n",
              "      <th></th>\n",
              "      <th>precio</th>\n",
              "      <th>prediccion</th>\n",
              "    </tr>\n",
              "  </thead>\n",
              "  <tbody>\n",
              "    <tr>\n",
              "      <th>903</th>\n",
              "      <td>105000</td>\n",
              "      <td>112491.665253</td>\n",
              "    </tr>\n",
              "    <tr>\n",
              "      <th>208</th>\n",
              "      <td>113000</td>\n",
              "      <td>185142.195564</td>\n",
              "    </tr>\n",
              "    <tr>\n",
              "      <th>358</th>\n",
              "      <td>110500</td>\n",
              "      <td>168900.516039</td>\n",
              "    </tr>\n",
              "    <tr>\n",
              "      <th>1187</th>\n",
              "      <td>159000</td>\n",
              "      <td>139333.302565</td>\n",
              "    </tr>\n",
              "    <tr>\n",
              "      <th>319</th>\n",
              "      <td>215000</td>\n",
              "      <td>236967.476884</td>\n",
              "    </tr>\n",
              "  </tbody>\n",
              "</table>\n",
              "</div>"
            ],
            "text/plain": [
              "      precio     prediccion\n",
              "903   105000  112491.665253\n",
              "208   113000  185142.195564\n",
              "358   110500  168900.516039\n",
              "1187  159000  139333.302565\n",
              "319   215000  236967.476884"
            ]
          },
          "metadata": {},
          "execution_count": 56
        }
      ]
    },
    {
      "cell_type": "markdown",
      "metadata": {
        "id": "AJ1a3QqnB2En"
      },
      "source": [
        "###ERROR DEL TEST"
      ]
    },
    {
      "cell_type": "markdown",
      "metadata": {
        "id": "Llugm9y_B9jW"
      },
      "source": [
        "Aunque mediante los métodos de validación (Kfold, LeaveOneOut) se consiguen buenas estimaciones del error que tiene un modelo al predecir nuevas observaciones, la mejor forma de evaluar un modelo final es **prediciendo un conjunto test**, es decir, un conjunto de observaciones que se ha mantenido al margen del proceso de entrenamiento y optimización. Dependiendo del problema en cuestión, pueden ser interesantes unas métricas Anexo 2  u otras. El módulo sklearn.metrics incorpora una variedad considerable de métricas para evaluar la calidad de las predicciones."
      ]
    },
    {
      "cell_type": "code",
      "metadata": {
        "colab": {
          "base_uri": "https://localhost:8080/"
        },
        "id": "Trkb9gq_BUoi",
        "outputId": "1fc534df-a15c-4da8-8f93-2755d17d4738"
      },
      "source": [
        "# neg_root_mean_squared_error de test\n",
        "# ==============================================================================\n",
        "from sklearn.metrics import mean_squared_error\n",
        "\n",
        "rmse = mean_squared_error(\n",
        "        y_true = y_test,\n",
        "        y_pred = predicciones,\n",
        "        squared = False\n",
        "       )\n",
        "rmse"
      ],
      "execution_count": 57,
      "outputs": [
        {
          "output_type": "execute_result",
          "data": {
            "text/plain": [
              "65372.916389239625"
            ]
          },
          "metadata": {},
          "execution_count": 57
        }
      ]
    },
    {
      "cell_type": "markdown",
      "metadata": {
        "id": "FfZcpRn_CRgN"
      },
      "source": [
        "Al hacer la validacion estimamos que, usando la validacion cruzada repetida, el *rmse* del modelo era de 56735, un proximo al obtenido con el conjunto de test 65372."
      ]
    },
    {
      "cell_type": "markdown",
      "metadata": {
        "id": "jOOmyAWsDeHt"
      },
      "source": [
        "###MODELOS DE MACHINE LEARNING"
      ]
    },
    {
      "cell_type": "markdown",
      "metadata": {
        "id": "KD1CCFkQDeEy"
      },
      "source": [
        "####K-NEAREST NEIGHBOR (KNN)"
      ]
    },
    {
      "cell_type": "markdown",
      "metadata": {
        "id": "JO9hkvl9URv_"
      },
      "source": [
        "K-Nearest Neighbor es uno de los algoritmos de machine learning más simples. Su funcionamiento es el siguiente: para **predecir** una observación se *identifican las K observaciones del conjunto de entrenamiento que más se asemejan a ella* (en base a sus predictores) *y se emplea como valor predicho el promedio de la variable respuesta en dichas observaciones.* Dada su sencillez, suele dar peores resultados que otros algoritmos, pero es un buen referente como baseline. Usaremos su versión como regresor **KNeighborsRegressor**"
      ]
    },
    {
      "cell_type": "code",
      "metadata": {
        "id": "WNC3TX6bqZkJ"
      },
      "source": [
        "from sklearn.model_selection import RandomizedSearchCV, RepeatedKFold\n",
        "from sklearn.neighbors import KNeighborsRegressor"
      ],
      "execution_count": 73,
      "outputs": []
    },
    {
      "cell_type": "markdown",
      "metadata": {
        "id": "LHeCtz6lqf4w"
      },
      "source": [
        "Agrupamos *las transformaciones de preprocesamiento* aplicadas a las columnas numericas y categoricas y *el modelo* de prediccion en un mismo pipeline. "
      ]
    },
    {
      "cell_type": "code",
      "metadata": {
        "id": "U-7JhjvVp8PP"
      },
      "source": [
        "pipe = Pipeline(\n",
        "    [(\"preprocessing\", \n",
        "    preprocessor), \n",
        "     (\"modelo\", KNeighborsRegressor()\n",
        "     )]\n",
        ")"
      ],
      "execution_count": 74,
      "outputs": []
    },
    {
      "cell_type": "markdown",
      "metadata": {
        "id": "fkdjX_KdrLaI"
      },
      "source": [
        " Optimización de hiperparámetros\n"
      ]
    },
    {
      "cell_type": "code",
      "metadata": {
        "id": "WYTkmV_Or3qo"
      },
      "source": [
        "import multiprocessing\n"
      ],
      "execution_count": 69,
      "outputs": []
    },
    {
      "cell_type": "code",
      "metadata": {
        "colab": {
          "base_uri": "https://localhost:8080/",
          "height": 80
        },
        "id": "XPoWOAFfpN2q",
        "outputId": "33f8f39e-367a-4366-e064-57404f6472c3"
      },
      "source": [
        "# Optimización de hiperparámetros\n",
        "# ==============================================================================\n",
        "# Espacio de búsqueda de cada hiperparámetro\n",
        "param_distributions = {'modelo__n_neighbors': np.linspace(1, 100, 500, dtype=int)}\n",
        "\n",
        "# Búsqueda random grid\n",
        "grid = RandomizedSearchCV(\n",
        "        estimator  = pipe,\n",
        "        param_distributions = param_distributions,\n",
        "        n_iter     = 20,\n",
        "        scoring    = 'neg_root_mean_squared_error',\n",
        "        n_jobs     = multiprocessing.cpu_count() - 1,\n",
        "        cv         = RepeatedKFold(n_splits = 5, n_repeats = 3), \n",
        "        refit      = True, \n",
        "        verbose    = 0,\n",
        "        random_state = 123,\n",
        "        return_train_score = True\n",
        "       )\n",
        "\n",
        "grid.fit(X = X_train, y = y_train)\n",
        "\n",
        "# Resultados del grid\n",
        "# ==============================================================================\n",
        "resultados = pd.DataFrame(grid.cv_results_)\n",
        "resultados.filter(regex = '(param.*|mean_t|std_t)')\\\n",
        "    .drop(columns = 'params')\\\n",
        "    .sort_values('mean_test_score', ascending = False)\\\n",
        "    .head(1)"
      ],
      "execution_count": 75,
      "outputs": [
        {
          "output_type": "execute_result",
          "data": {
            "text/html": [
              "<div>\n",
              "<style scoped>\n",
              "    .dataframe tbody tr th:only-of-type {\n",
              "        vertical-align: middle;\n",
              "    }\n",
              "\n",
              "    .dataframe tbody tr th {\n",
              "        vertical-align: top;\n",
              "    }\n",
              "\n",
              "    .dataframe thead th {\n",
              "        text-align: right;\n",
              "    }\n",
              "</style>\n",
              "<table border=\"1\" class=\"dataframe\">\n",
              "  <thead>\n",
              "    <tr style=\"text-align: right;\">\n",
              "      <th></th>\n",
              "      <th>param_modelo__n_neighbors</th>\n",
              "      <th>mean_test_score</th>\n",
              "      <th>std_test_score</th>\n",
              "      <th>mean_train_score</th>\n",
              "      <th>std_train_score</th>\n",
              "    </tr>\n",
              "  </thead>\n",
              "  <tbody>\n",
              "    <tr>\n",
              "      <th>12</th>\n",
              "      <td>7</td>\n",
              "      <td>-61381.333161</td>\n",
              "      <td>4851.31547</td>\n",
              "      <td>-52748.768414</td>\n",
              "      <td>918.177843</td>\n",
              "    </tr>\n",
              "  </tbody>\n",
              "</table>\n",
              "</div>"
            ],
            "text/plain": [
              "   param_modelo__n_neighbors  ...  std_train_score\n",
              "12                         7  ...       918.177843\n",
              "\n",
              "[1 rows x 5 columns]"
            ]
          },
          "metadata": {},
          "execution_count": 75
        }
      ]
    },
    {
      "cell_type": "code",
      "metadata": {
        "colab": {
          "base_uri": "https://localhost:8080/",
          "height": 408
        },
        "id": "pxSDqRscpNsQ",
        "outputId": "36985787-ce83-469f-94e5-2808884e0893"
      },
      "source": [
        "# Gráfico resultados validación cruzada para cada hiperparámetro\n",
        "fig, ax = plt.subplots(figsize=(10, 6))\n",
        "hiperparametro = 'param_modelo__n_neighbors'\n",
        "resultados = resultados.sort_values(hiperparametro, ascending = False)\n",
        "metrica    = grid.scoring\n",
        "\n",
        "resultados.plot(hiperparametro, 'mean_train_score', ax=ax)\n",
        "resultados.plot(hiperparametro, 'mean_test_score', ax=ax)\n",
        "ax.fill_between(resultados[hiperparametro].astype(np.int),\n",
        "                resultados['mean_train_score'] + resultados['std_train_score'],\n",
        "                resultados['mean_train_score'] - resultados['std_train_score'],\n",
        "                alpha=0.2)\n",
        "ax.fill_between(resultados[hiperparametro].astype(np.int),\n",
        "                resultados['mean_test_score'] + resultados['std_test_score'],\n",
        "                resultados['mean_test_score'] - resultados['std_test_score'],\n",
        "                alpha=0.2)\n",
        "ax.legend()\n",
        "ax.set_title('Evolución del error CV')\n",
        "ax.set_ylabel(metrica);"
      ],
      "execution_count": 76,
      "outputs": [
        {
          "output_type": "display_data",
          "data": {
            "image/png": "[encoded data removed]",
            "text/plain": [
              "<Figure size 720x432 with 1 Axes>"
            ]
          },
          "metadata": {}
        }
      ]
    },
    {
      "cell_type": "code",
      "metadata": {
        "colab": {
          "base_uri": "https://localhost:8080/"
        },
        "id": "e4h93w0a1TSd",
        "outputId": "ebc03163-52c5-465c-dcb8-710c7e1eeeb0"
      },
      "source": [
        "# Error de test del modelo final\n",
        "modelo_final = grid.best_estimator_\n",
        "predicciones = modelo_final.predict(X = X_test)\n",
        "rmse_knn = mean_squared_error(\n",
        "            y_true  = y_test,\n",
        "            y_pred  = predicciones,\n",
        "            squared = False\n",
        "           )\n",
        "print(f\"El error (rmse) de test es: {rmse_knn}\")"
      ],
      "execution_count": 77,
      "outputs": [
        {
          "output_type": "stream",
          "name": "stdout",
          "text": [
            "El error (rmse) de test es: 67303.99640453797\n"
          ]
        }
      ]
    },
    {
      "cell_type": "markdown",
      "metadata": {
        "id": "orcRcrwqUAIN"
      },
      "source": [
        "####REGRESION LINEAL (RIDGE Y LASSO)\n",
        "\n"
      ]
    },
    {
      "cell_type": "markdown",
      "metadata": {
        "id": "JheC4Ls9UQ_B"
      },
      "source": [
        "La regresión lineal es un método estadístico que trata de modelar la relación lineal entre una variable continua (variable dependiente, respuesta o dependiente) y una o más variables independientes (regresores o predictores) mediante el ajuste de una ecuación lineal. Se llama regresión lineal simple cuando solo hay una variable independiente y regresión lineal múltiple cuando hay más de una.\n",
        "\n",
        "El modelo de regresión lineal (Legendre, Gauss, Galton y Pearson) considera que, dado un conjunto de observaciones, la media  μ  de la variable respuesta  Y  se relaciona de forma lineal con la o las variables regresoras  X  acorde a la ecuación:\n",
        "\n",
        "$$\\mu_γ=\\beta_0+\\beta_1x_1+\\beta_2x_2+...+\\beta_px_p$$\n",
        " \n",
        "o en notación matricial (incorporando  $\\beta_0$  en el vector $\\beta$ ):\n",
        "\n",
        "$$\\mu_γ = X^T β $$\n",
        " \n",
        "Además, el modelo lineal puede incluir regularización durante su ajuste, por lo que también incluye los modelos ridge regression, lasso y elastic net."
      ]
    },
    {
      "cell_type": "markdown",
      "metadata": {
        "id": "I82bwA86J4k6"
      },
      "source": [
        "Scikit-Learn incorpora 3 tipos de regularización para los modelos lineales con el objetivo de evitar overfitting, reducir varianza y atenuar el efecto de la correlación entre predictores. Por lo general, aplicando regularización se consigue modelos con mayor poder predictivo (generalización).\n",
        "\n",
        "1. **El modelo lasso** es un modelo lineal por mínimos cuadrados que incorpora una regularización que penaliza la suma del valor absolutos de los coeficientes de regresión  (||β||1=∑pk=1|βk|) . A esta penalización se le conoce como l1 y tiene el efecto de forzar a que los coeficientes de los predictores tiendan a cero. Dado que un predictor con coeficiente de regresión cero no influye en el modelo, lasso consigue seleccionar los predictores más influyentes. El grado de penalización está controlado por el hiperparámetro  λ . Cuando  λ=0 , el resultado es equivalente al de un modelo lineal por mínimos cuadrados ordinarios. A medida que  λ  aumenta, mayor es la penalización y más predictores quedan excluidos.\n",
        "\n",
        "2. **El modelo ridge** es un modelo lineal por mínimos cuadrados que incorpora una regularización que penaliza la suma de los coeficientes elevados al cuadrado. A esta penalización se le conoce como l2 y tiene el efecto de reducir de forma proporcional el valor de todos los coeficientes del modelo pero sin que estos lleguen a cero. Al igual que lasso, el grado de penalización está controlado por el hiperparámetro  λ .\n",
        "\n",
        "La principal diferencia práctica entre lasso y ridge es que el primero consigue que algunos coeficientes sean exactamente cero, por lo que realiza selección de predictores, mientras que el segundo no llega a excluir ninguno. Esto supone una ventaja notable de lasso en escenarios donde no todos los predictores son importantes para el modelo y se desea que los menos influyentes queden excluidos. Por otro lado, cuando existen predictores altamente correlacionados (linealmente), **ridge reduce la influencia de todos ellos a la vez y de forma proporcional**, mientras que** lasso tiende a seleccionar uno de ellos, dándole todo el peso y excluyendo al resto.** En presencia de correlaciones, esta selección varía mucho con pequeñas perturbaciones (cambios en los datos de entrenamiento), por lo que, **las soluciones de lasso, son muy inestables si los predictores están altamente correlacionados.**\n",
        "\n",
        "Para conseguir un equilibrio óptimo entre estas dos propiedades, se puede emplear lo que se conoce como *penalización elastic net*, que combina ambas estrategias."
      ]
    },
    {
      "cell_type": "code",
      "metadata": {
        "id": "fv7nN0igJXBJ"
      },
      "source": [
        "from sklearn.model_selection import RandomizedSearchCV, RepeatedKFold\n",
        "from sklearn.linear_model import Ridge\n",
        "from sklearn.linear_model import Lasso\n",
        "from sklearn.linear_model import ElasticNet\n",
        "\n",
        "# Pipeline: preprocesado + modelo\n",
        "# ==============================================================================\n",
        "# Identificación de columnas numéricas y catégoricas\n",
        "numeric_cols = X_train.select_dtypes(include=['float64', 'int']).columns.to_list()\n",
        "cat_cols = X_train.select_dtypes(include=['object', 'category']).columns.to_list()\n",
        "\n",
        "\n",
        "# Transformaciones para las variables numéricas\n",
        "numeric_transformer = Pipeline(\n",
        "                        steps=[('scaler', StandardScaler())]\n",
        "                      )\n",
        "\n",
        "# Transformaciones para las variables categóricas\n",
        "categorical_transformer = Pipeline(\n",
        "                            steps=[('onehot', OneHotEncoder(handle_unknown='ignore'))]\n",
        "                          )\n",
        "\n",
        "preprocessor = ColumnTransformer(\n",
        "                    transformers=[\n",
        "                        ('numeric', numeric_transformer, numeric_cols),\n",
        "                        ('cat', categorical_transformer, cat_cols)\n",
        "                    ],\n",
        "                    remainder='passthrough'\n",
        "                )\n",
        "\n",
        "# Se combinan los pasos de preprocesado y el modelo en un mismo pipeline.\n",
        "pipe = Pipeline([('preprocessing', preprocessor),\n",
        "                 ('modelo', ElasticNet())])\n",
        "\n"
      ],
      "execution_count": 90,
      "outputs": []
    },
    {
      "cell_type": "code",
      "metadata": {
        "colab": {
          "base_uri": "https://localhost:8080/",
          "height": 80
        },
        "id": "YYJMvDQ7p756",
        "outputId": "f0046a9a-3a6a-4e26-8e75-9e6c4c3b6a17"
      },
      "source": [
        "# Optimización de hiperparámetros\n",
        "# ==============================================================================\n",
        "# Espacio de búsqueda de cada hiperparámetro\n",
        "param_distributions = {'modelo__alpha': np.logspace(-5, 5, 500)}\n",
        "\n",
        "# Búsqueda random grid\n",
        "grid = RandomizedSearchCV(\n",
        "        estimator  = pipe,\n",
        "        param_distributions = param_distributions,\n",
        "        n_iter     = 20,\n",
        "        scoring    = 'neg_root_mean_squared_error',\n",
        "        n_jobs     = multiprocessing.cpu_count() - 1,\n",
        "        cv         = RepeatedKFold(n_splits = 5, n_repeats = 3), \n",
        "        refit      = True, \n",
        "        verbose    = 0,\n",
        "        random_state = 123,\n",
        "        return_train_score = True\n",
        "       )\n",
        "\n",
        "grid.fit(X = X_train, y = y_train)\n",
        "# Resultados del grid\n",
        "# ==============================================================================\n",
        "resultados = pd.DataFrame(grid.cv_results_)\n",
        "resultados.filter(regex = '(param.*|mean_t|std_t)')\\\n",
        "    .drop(columns = 'params')\\\n",
        "    .sort_values('mean_test_score', ascending = False)\\\n",
        "    .head(1)"
      ],
      "execution_count": 91,
      "outputs": [
        {
          "output_type": "execute_result",
          "data": {
            "text/html": [
              "<div>\n",
              "<style scoped>\n",
              "    .dataframe tbody tr th:only-of-type {\n",
              "        vertical-align: middle;\n",
              "    }\n",
              "\n",
              "    .dataframe tbody tr th {\n",
              "        vertical-align: top;\n",
              "    }\n",
              "\n",
              "    .dataframe thead th {\n",
              "        text-align: right;\n",
              "    }\n",
              "</style>\n",
              "<table border=\"1\" class=\"dataframe\">\n",
              "  <thead>\n",
              "    <tr style=\"text-align: right;\">\n",
              "      <th></th>\n",
              "      <th>param_modelo__alpha</th>\n",
              "      <th>mean_test_score</th>\n",
              "      <th>std_test_score</th>\n",
              "      <th>mean_train_score</th>\n",
              "      <th>std_train_score</th>\n",
              "    </tr>\n",
              "  </thead>\n",
              "  <tbody>\n",
              "    <tr>\n",
              "      <th>9</th>\n",
              "      <td>0.00484586</td>\n",
              "      <td>-57013.217752</td>\n",
              "      <td>4184.378618</td>\n",
              "      <td>-55930.867272</td>\n",
              "      <td>1069.060112</td>\n",
              "    </tr>\n",
              "  </tbody>\n",
              "</table>\n",
              "</div>"
            ],
            "text/plain": [
              "  param_modelo__alpha  mean_test_score  ...  mean_train_score  std_train_score\n",
              "9          0.00484586    -57013.217752  ...     -55930.867272      1069.060112\n",
              "\n",
              "[1 rows x 5 columns]"
            ]
          },
          "metadata": {},
          "execution_count": 91
        }
      ]
    },
    {
      "cell_type": "code",
      "metadata": {
        "colab": {
          "base_uri": "https://localhost:8080/",
          "height": 80
        },
        "id": "7FlFkTMup9-t",
        "outputId": "10cfb012-0b02-40e2-933a-e9949975bb12"
      },
      "source": [
        "# Optimización de hiperparámetros\n",
        "# ==============================================================================\n",
        "# Espacio de búsqueda de cada hiperparámetro\n",
        "param_distributions = {'modelo__alpha': np.logspace(-5, 5, 500)}\n",
        "\n",
        "# Búsqueda random grid\n",
        "grid = RandomizedSearchCV(\n",
        "        estimator  = pipe,\n",
        "        param_distributions = param_distributions,\n",
        "        n_iter     = 20,\n",
        "        scoring    = 'neg_root_mean_squared_error',\n",
        "        n_jobs     = multiprocessing.cpu_count() - 1,\n",
        "        cv         = RepeatedKFold(n_splits = 5, n_repeats = 3), \n",
        "        refit      = True, \n",
        "        verbose    = 0,\n",
        "        random_state = 123,\n",
        "        return_train_score = True\n",
        "       )\n",
        "\n",
        "grid.fit(X = X_train, y = y_train)\n",
        "# Resultados del grid\n",
        "# ==============================================================================\n",
        "resultados = pd.DataFrame(grid.cv_results_)\n",
        "resultados.filter(regex = '(param.*|mean_t|std_t)')\\\n",
        "    .drop(columns = 'params')\\\n",
        "    .sort_values('mean_test_score', ascending = False)\\\n",
        "    .head(1)"
      ],
      "execution_count": 92,
      "outputs": [
        {
          "output_type": "execute_result",
          "data": {
            "text/html": [
              "<div>\n",
              "<style scoped>\n",
              "    .dataframe tbody tr th:only-of-type {\n",
              "        vertical-align: middle;\n",
              "    }\n",
              "\n",
              "    .dataframe tbody tr th {\n",
              "        vertical-align: top;\n",
              "    }\n",
              "\n",
              "    .dataframe thead th {\n",
              "        text-align: right;\n",
              "    }\n",
              "</style>\n",
              "<table border=\"1\" class=\"dataframe\">\n",
              "  <thead>\n",
              "    <tr style=\"text-align: right;\">\n",
              "      <th></th>\n",
              "      <th>param_modelo__alpha</th>\n",
              "      <th>mean_test_score</th>\n",
              "      <th>std_test_score</th>\n",
              "      <th>mean_train_score</th>\n",
              "      <th>std_train_score</th>\n",
              "    </tr>\n",
              "  </thead>\n",
              "  <tbody>\n",
              "    <tr>\n",
              "      <th>9</th>\n",
              "      <td>0.00484586</td>\n",
              "      <td>-57210.233479</td>\n",
              "      <td>4203.463136</td>\n",
              "      <td>-55908.914203</td>\n",
              "      <td>1092.114668</td>\n",
              "    </tr>\n",
              "  </tbody>\n",
              "</table>\n",
              "</div>"
            ],
            "text/plain": [
              "  param_modelo__alpha  mean_test_score  ...  mean_train_score  std_train_score\n",
              "9          0.00484586    -57210.233479  ...     -55908.914203      1092.114668\n",
              "\n",
              "[1 rows x 5 columns]"
            ]
          },
          "metadata": {},
          "execution_count": 92
        }
      ]
    },
    {
      "cell_type": "code",
      "metadata": {
        "colab": {
          "base_uri": "https://localhost:8080/",
          "height": 291
        },
        "id": "LFsK89kiIjf_",
        "outputId": "bf51ac1d-d489-412d-b9c1-ce59ba72afac"
      },
      "source": [
        "# Gráfico resultados validación cruzada para cada hiperparámetro\n",
        "# ------------------------------------------------------------------------------\n",
        "fig, ax = plt.subplots(figsize=(6, 3.84))\n",
        "hiperparametro = 'param_modelo__alpha'\n",
        "resultados = resultados.sort_values(hiperparametro, ascending = False)\n",
        "metrica    = grid.scoring\n",
        "\n",
        "resultados.plot(hiperparametro, 'mean_train_score', ax=ax)\n",
        "resultados.plot(hiperparametro, 'mean_test_score', ax=ax)\n",
        "ax.fill_between(resultados[hiperparametro].astype(np.int),\n",
        "                resultados['mean_train_score'] + resultados['std_train_score'],\n",
        "                resultados['mean_train_score'] - resultados['std_train_score'],\n",
        "                alpha=0.2)\n",
        "ax.fill_between(resultados[hiperparametro].astype(np.int),\n",
        "                resultados['mean_test_score'] + resultados['std_test_score'],\n",
        "                resultados['mean_test_score'] - resultados['std_test_score'],\n",
        "                alpha=0.2)\n",
        "ax.legend()\n",
        "ax.set_title('Evolución del error CV')\n",
        "ax.set_ylabel(metrica);"
      ],
      "execution_count": 93,
      "outputs": [
        {
          "output_type": "display_data",
          "data": {
            "image/png": "[encoded data removed]",
            "text/plain": [
              "<Figure size 432x276.48 with 1 Axes>"
            ]
          },
          "metadata": {}
        }
      ]
    },
    {
      "cell_type": "code",
      "metadata": {
        "colab": {
          "base_uri": "https://localhost:8080/"
        },
        "id": "73mCIpnGJ78B",
        "outputId": "2982e881-19b3-47ad-cf09-6d9334cbc602"
      },
      "source": [
        "# Error de test del modelo final\n",
        "# ==============================================================================\n",
        "#elegimos los mejores parametros del grid\n",
        "modelo_final = grid.best_estimator_\n",
        "#predecimos los valores usando el modelo con los mejores parametros \n",
        "predicciones = modelo_final.predict(X = X_test)\n",
        "\n",
        "#rmse\n",
        "rmse_lm = mean_squared_error(\n",
        "            y_true  = y_test,\n",
        "            y_pred  = predicciones,\n",
        "            squared = False\n",
        "           )\n",
        "print(f\"El error (rmse) de test es: {rmse_lm}\")"
      ],
      "execution_count": 94,
      "outputs": [
        {
          "output_type": "stream",
          "name": "stdout",
          "text": [
            "El error (rmse) de test es: 65406.060314055336\n"
          ]
        }
      ]
    },
    {
      "cell_type": "code",
      "metadata": {
        "id": "TMSRVu42amqH"
      },
      "source": [
        ""
      ],
      "execution_count": null,
      "outputs": []
    },
    {
      "cell_type": "markdown",
      "metadata": {
        "id": "eYyjmpNXUIQV"
      },
      "source": [
        "####RANDOM FOREST"
      ]
    },
    {
      "cell_type": "markdown",
      "metadata": {
        "id": "sJ6oCvjJUK40"
      },
      "source": [
        ""
      ]
    },
    {
      "cell_type": "code",
      "metadata": {
        "id": "5sovGaHSGM5u"
      },
      "source": [
        "from sklearn.model_selection import RandomizedSearchCV, RepeatedKFold\n",
        "from sklearn.ensemble import RandomForestRegressor"
      ],
      "execution_count": 95,
      "outputs": []
    },
    {
      "cell_type": "code",
      "metadata": {
        "id": "gTFu1V1rpPEG"
      },
      "source": [
        "# Pipeline: preprocesado + modelo\n",
        "# ==============================================================================\n",
        "# Identificación de columnas numéricas y catégoricas\n",
        "numeric_cols = X_train.select_dtypes(include=['float64', 'int']).columns.to_list()\n",
        "cat_cols = X_train.select_dtypes(include=['object', 'category']).columns.to_list()\n",
        "\n",
        "\n",
        "# Transformaciones para las variables numéricas\n",
        "numeric_transformer = Pipeline(\n",
        "                        steps=[('scaler', StandardScaler())]\n",
        "                      )\n",
        "\n",
        "# Transformaciones para las variables categóricas\n",
        "categorical_transformer = Pipeline(\n",
        "                            steps=[('onehot', OneHotEncoder(handle_unknown='ignore'))]\n",
        "                          )\n",
        "\n",
        "preprocessor = ColumnTransformer(\n",
        "                    transformers=[\n",
        "                        ('numeric', numeric_transformer, numeric_cols),\n",
        "                        ('cat', categorical_transformer, cat_cols)\n",
        "                    ],\n",
        "                    remainder='passthrough'\n",
        "                )\n",
        "\n",
        "# Se combinan los pasos de preprocesado y el modelo en un mismo pipeline.\n",
        "pipe = Pipeline([('preprocessing', preprocessor),\n",
        "                 ('modelo', RandomForestRegressor())])\n",
        "\n"
      ],
      "execution_count": 96,
      "outputs": []
    },
    {
      "cell_type": "code",
      "metadata": {
        "id": "8UeFLdAJpO-i",
        "colab": {
          "base_uri": "https://localhost:8080/",
          "height": 80
        },
        "outputId": "9519a9c4-a0bd-4fc3-9c43-de6e08ca3b24"
      },
      "source": [
        "# Optimización de hiperparámetros\n",
        "# ==============================================================================\n",
        "# Espacio de búsqueda de cada hiperparámetro\n",
        "\n",
        "param_distributions = {\n",
        "    'modelo__n_estimators': [50, 100, 1000, 2000],\n",
        "    'modelo__max_features': [\"auto\", 3, 5, 7],\n",
        "    'modelo__max_depth'   : [None, 3, 5, 10, 20]\n",
        "}\n",
        "\n",
        "# Búsqueda random grid\n",
        "grid = RandomizedSearchCV(\n",
        "        estimator  = pipe,\n",
        "        param_distributions = param_distributions,\n",
        "        n_iter     = 20,\n",
        "        scoring    = 'neg_root_mean_squared_error',\n",
        "        n_jobs     = multiprocessing.cpu_count() - 1,\n",
        "        cv         = RepeatedKFold(n_splits = 5, n_repeats = 3),\n",
        "        refit      = True, \n",
        "        verbose    = 0,\n",
        "        random_state = 123,\n",
        "        return_train_score = True\n",
        "       )\n",
        "\n",
        "grid.fit(X = X_train, y = y_train)\n",
        "\n",
        "# Resultados del grid\n",
        "# ==============================================================================\n",
        "resultados = pd.DataFrame(grid.cv_results_)\n",
        "resultados.filter(regex = '(param.*|mean_t|std_t)')\\\n",
        "    .drop(columns = 'params')\\\n",
        "    .sort_values('mean_test_score', ascending = False)\\\n",
        "    .head(1)"
      ],
      "execution_count": 97,
      "outputs": [
        {
          "output_type": "execute_result",
          "data": {
            "text/html": [
              "<div>\n",
              "<style scoped>\n",
              "    .dataframe tbody tr th:only-of-type {\n",
              "        vertical-align: middle;\n",
              "    }\n",
              "\n",
              "    .dataframe tbody tr th {\n",
              "        vertical-align: top;\n",
              "    }\n",
              "\n",
              "    .dataframe thead th {\n",
              "        text-align: right;\n",
              "    }\n",
              "</style>\n",
              "<table border=\"1\" class=\"dataframe\">\n",
              "  <thead>\n",
              "    <tr style=\"text-align: right;\">\n",
              "      <th></th>\n",
              "      <th>param_modelo__n_estimators</th>\n",
              "      <th>param_modelo__max_features</th>\n",
              "      <th>param_modelo__max_depth</th>\n",
              "      <th>mean_test_score</th>\n",
              "      <th>std_test_score</th>\n",
              "      <th>mean_train_score</th>\n",
              "      <th>std_train_score</th>\n",
              "    </tr>\n",
              "  </thead>\n",
              "  <tbody>\n",
              "    <tr>\n",
              "      <th>17</th>\n",
              "      <td>1000</td>\n",
              "      <td>7</td>\n",
              "      <td>20</td>\n",
              "      <td>-53892.211502</td>\n",
              "      <td>4392.451342</td>\n",
              "      <td>-20225.102607</td>\n",
              "      <td>370.445945</td>\n",
              "    </tr>\n",
              "  </tbody>\n",
              "</table>\n",
              "</div>"
            ],
            "text/plain": [
              "   param_modelo__n_estimators  ... std_train_score\n",
              "17                       1000  ...      370.445945\n",
              "\n",
              "[1 rows x 7 columns]"
            ]
          },
          "metadata": {},
          "execution_count": 97
        }
      ]
    },
    {
      "cell_type": "code",
      "metadata": {
        "colab": {
          "base_uri": "https://localhost:8080/"
        },
        "id": "Gu0ZqOctGcXh",
        "outputId": "5bed2e43-fbfb-4faf-b1a2-fd0fefa6db68"
      },
      "source": [
        "# Error de test del modelo final\n",
        "# ==============================================================================\n",
        "modelo_final = grid.best_estimator_\n",
        "predicciones = modelo_final.predict(X = X_test)\n",
        "rmse_rf = mean_squared_error(\n",
        "            y_true  = y_test,\n",
        "            y_pred  = predicciones,\n",
        "            squared = False\n",
        "          )\n",
        "print(f\"El error (rmse) de test es: {rmse_rf}\")"
      ],
      "execution_count": 98,
      "outputs": [
        {
          "output_type": "stream",
          "name": "stdout",
          "text": [
            "El error (rmse) de test es: 60957.44110384085\n"
          ]
        }
      ]
    },
    {
      "cell_type": "markdown",
      "metadata": {
        "id": "F-dW1ki4US7d"
      },
      "source": [
        "####GRADIENT BOOSTING TREES"
      ]
    },
    {
      "cell_type": "markdown",
      "metadata": {
        "id": "Zy3djui9UW8Z"
      },
      "source": [
        "Un modelo **Gradient Boosting Trees**  está formado por un conjunto de árboles de decisión individuales, entrenados de forma secuencial, de forma que cada nuevo árbol trata de mejorar los errores de los árboles anteriores. La predicción de una nueva observación se obtiene agregando las predicciones de todos los árboles individuales que forman el modelo."
      ]
    },
    {
      "cell_type": "code",
      "metadata": {
        "id": "1xdb89pWGsHZ"
      },
      "source": [
        "from sklearn.model_selection import RandomizedSearchCV, RepeatedKFold\n",
        "from sklearn.ensemble import GradientBoostingRegressor\n"
      ],
      "execution_count": 99,
      "outputs": []
    },
    {
      "cell_type": "code",
      "metadata": {
        "id": "DgEhkMMppQUj"
      },
      "source": [
        "\n",
        "# Pipeline: preprocesado + modelo\n",
        "# ==============================================================================\n",
        "# Identificación de columnas numéricas y catégoricas\n",
        "numeric_cols = X_train.select_dtypes(include=['float64', 'int']).columns.to_list()\n",
        "cat_cols = X_train.select_dtypes(include=['object', 'category']).columns.to_list()\n",
        "\n",
        "\n",
        "# Transformaciones para las variables numéricas\n",
        "numeric_transformer = Pipeline(\n",
        "                        steps=[('scaler', StandardScaler())]\n",
        "                      )\n",
        "\n",
        "# Transformaciones para las variables categóricas\n",
        "categorical_transformer = Pipeline(\n",
        "                            steps=[('onehot', OneHotEncoder(handle_unknown='ignore'))]\n",
        "                          )\n",
        "\n",
        "preprocessor = ColumnTransformer(\n",
        "                    transformers=[\n",
        "                        ('numeric', numeric_transformer, numeric_cols),\n",
        "                        ('cat', categorical_transformer, cat_cols)\n",
        "                    ],\n",
        "                    remainder='passthrough'\n",
        "                )\n",
        "\n",
        "# Se combinan los pasos de preprocesado y el modelo en un mismo pipeline.\n",
        "pipe = Pipeline([('preprocessing', preprocessor),\n",
        "                 ('modelo', GradientBoostingRegressor())])\n"
      ],
      "execution_count": 100,
      "outputs": []
    },
    {
      "cell_type": "code",
      "metadata": {
        "id": "j8L8IorlpQnR",
        "colab": {
          "base_uri": "https://localhost:8080/",
          "height": 80
        },
        "outputId": "57d74899-5c74-4f5e-a79a-c8bd72a88768"
      },
      "source": [
        "\n",
        "# Optimización de hiperparámetros\n",
        "# ==============================================================================\n",
        "# Espacio de búsqueda de cada hiperparámetro\n",
        "\n",
        "param_distributions = {\n",
        "    'modelo__n_estimators': [50, 100, 1000, 2000],\n",
        "    'modelo__max_features': [\"auto\", 3, 5, 7],\n",
        "    'modelo__max_depth'   : [None, 3, 5, 10, 20],\n",
        "    'modelo__subsample'   : [0.5,0.7, 1]\n",
        "}\n",
        "\n",
        "# Búsqueda random grid\n",
        "grid = RandomizedSearchCV(\n",
        "        estimator  = pipe,\n",
        "        param_distributions = param_distributions,\n",
        "        n_iter     = 20,\n",
        "        scoring    = 'neg_root_mean_squared_error',\n",
        "        n_jobs     = multiprocessing.cpu_count() - 1,\n",
        "        cv         = RepeatedKFold(n_splits = 5, n_repeats = 3),\n",
        "        refit      = True, \n",
        "        verbose    = 0,\n",
        "        random_state = 123,\n",
        "        return_train_score = True\n",
        "       )\n",
        "\n",
        "grid.fit(X = X_train, y = y_train)\n",
        "\n",
        "# Resultados del grid\n",
        "# ==============================================================================\n",
        "resultados = pd.DataFrame(grid.cv_results_)\n",
        "resultados.filter(regex = '(param.*|mean_t|std_t)')\\\n",
        "    .drop(columns = 'params')\\\n",
        "    .sort_values('mean_test_score', ascending = False)\\\n",
        "    .head(1)"
      ],
      "execution_count": 119,
      "outputs": [
        {
          "output_type": "execute_result",
          "data": {
            "text/html": [
              "<div>\n",
              "<style scoped>\n",
              "    .dataframe tbody tr th:only-of-type {\n",
              "        vertical-align: middle;\n",
              "    }\n",
              "\n",
              "    .dataframe tbody tr th {\n",
              "        vertical-align: top;\n",
              "    }\n",
              "\n",
              "    .dataframe thead th {\n",
              "        text-align: right;\n",
              "    }\n",
              "</style>\n",
              "<table border=\"1\" class=\"dataframe\">\n",
              "  <thead>\n",
              "    <tr style=\"text-align: right;\">\n",
              "      <th></th>\n",
              "      <th>param_modelo__subsample</th>\n",
              "      <th>param_modelo__n_estimators</th>\n",
              "      <th>param_modelo__max_features</th>\n",
              "      <th>param_modelo__max_depth</th>\n",
              "      <th>mean_test_score</th>\n",
              "      <th>std_test_score</th>\n",
              "      <th>mean_train_score</th>\n",
              "      <th>std_train_score</th>\n",
              "    </tr>\n",
              "  </thead>\n",
              "  <tbody>\n",
              "    <tr>\n",
              "      <th>14</th>\n",
              "      <td>1</td>\n",
              "      <td>100</td>\n",
              "      <td>7</td>\n",
              "      <td>3</td>\n",
              "      <td>-54536.535783</td>\n",
              "      <td>5268.44114</td>\n",
              "      <td>-39661.903355</td>\n",
              "      <td>722.38333</td>\n",
              "    </tr>\n",
              "  </tbody>\n",
              "</table>\n",
              "</div>"
            ],
            "text/plain": [
              "   param_modelo__subsample  ... std_train_score\n",
              "14                       1  ...       722.38333\n",
              "\n",
              "[1 rows x 8 columns]"
            ]
          },
          "metadata": {},
          "execution_count": 119
        }
      ]
    },
    {
      "cell_type": "code",
      "metadata": {
        "colab": {
          "base_uri": "https://localhost:8080/"
        },
        "id": "9pOD5M40Gwm0",
        "outputId": "fc798b1f-201b-472f-96b6-195428e414a6"
      },
      "source": [
        "# Error de test del modelo final\n",
        "# ==============================================================================\n",
        "modelo_final = grid.best_estimator_\n",
        "predicciones = modelo_final.predict(X = X_test)\n",
        "rmse_gbm = mean_squared_error(\n",
        "            y_true  = y_test,\n",
        "            y_pred  = predicciones,\n",
        "            squared = False\n",
        "          )\n",
        "print(f\"El error (rmse) de test es: {rmse_gbm}\")"
      ],
      "execution_count": 104,
      "outputs": [
        {
          "output_type": "stream",
          "name": "stdout",
          "text": [
            "El error (rmse) de test es: 62618.93218193633\n"
          ]
        }
      ]
    },
    {
      "cell_type": "code",
      "metadata": {
        "colab": {
          "base_uri": "https://localhost:8080/"
        },
        "id": "W0JwSiRoG1n3",
        "outputId": "b306f13e-5af7-4772-cfa8-ad3355bbf451"
      },
      "source": [
        "df_predicciones = pd.DataFrame({'precio' : y_test, 'prediccion' : predicciones})\n",
        "modelo_final.score"
      ],
      "execution_count": 108,
      "outputs": [
        {
          "output_type": "execute_result",
          "data": {
            "text/plain": [
              "<function sklearn.pipeline.Pipeline.score>"
            ]
          },
          "metadata": {},
          "execution_count": 108
        }
      ]
    },
    {
      "cell_type": "code",
      "metadata": {
        "colab": {
          "base_uri": "https://localhost:8080/"
        },
        "id": "xJ4615geVuz7",
        "outputId": "eb9d48e9-b749-4b96-9fc5-3a51b7c9401a"
      },
      "source": [
        "from tabulate import tabulate\n",
        "\n",
        "scores = [ [\"KNeighborsRegressor\", rmse_knn], [\"Linear Model\", rmse_lm], [\"Gradient Boosting Trees\", rmse_gbm], [\"Random Forest Regressor\", rmse_rf]]\n",
        "print(tabulate(scores, headers=[\"modelos\", \"error cuadrático medio\"]))"
      ],
      "execution_count": 121,
      "outputs": [
        {
          "output_type": "stream",
          "name": "stdout",
          "text": [
            "modelos                    error cuadratico medio\n",
            "-----------------------  ------------------------\n",
            "KNeighborsRegressor                       67304\n",
            "Linear Model                              65406.1\n",
            "Gradient Boosting Trees                   62618.9\n",
            "Random Forest Regressor                   60957.4\n"
          ]
        }
      ]
    },
    {
      "cell_type": "markdown",
      "metadata": {
        "id": "mNbhdqn7Va-d"
      },
      "source": [
        "por lo tanto, el modelo que nos dio mejores resultados fue el de **Random Forest Regressor**.\n"
      ]
    }
  ]
}